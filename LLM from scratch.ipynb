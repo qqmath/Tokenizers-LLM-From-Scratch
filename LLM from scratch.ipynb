{
  "metadata": {
    "kernelspec": {
      "name": "python",
      "display_name": "Python (Pyodide)",
      "language": "python"
    },
    "language_info": {
      "codemirror_mode": {
        "name": "python",
        "version": 3
      },
      "file_extension": ".py",
      "mimetype": "text/x-python",
      "name": "python",
      "nbconvert_exporter": "python",
      "pygments_lexer": "ipython3",
      "version": "3.8"
    }
  },
  "nbformat_minor": 5,
  "nbformat": 4,
  "cells": [
    {
      "id": "a35eeb9f-df70-4ab1-a243-2d2025888eb0",
      "cell_type": "markdown",
      "source": "# LLM from scratch\n\nIn December 2023 I brought the book Build a Large Language Model (From Scratch) by Sebastian Raschka https://www.manning.com/books/build-a-large-language-model-from-scratch. There are also great code implementations by author https://github.com/rasbt/LLMs-from-scratch even though the book is still in early access.",
      "metadata": {}
    },
    {
      "id": "34de0447-bc29-4df9-b1a8-5ec815500f82",
      "cell_type": "markdown",
      "source": "Packages that are being used for tokenizing:",
      "metadata": {}
    },
    {
      "id": "0e13b293-61aa-4665-80d3-29fb5974a4fd",
      "cell_type": "code",
      "source": "from importlib.metadata import version\n\nimport tiktoken\nimport torch\n\nprint(\"torch version:\", version(\"torch\"))\nprint(\"tiktoken version:\", version(\"tiktoken\"))",
      "metadata": {},
      "outputs": [
        {
          "name": "stdout",
          "output_type": "stream",
          "text": [
            "torch version: 2.0.1\n",
            "tiktoken version: 0.5.1\n"
          ]
        }
      ],
      "execution_count": 1
    },
    {
      "id": "0f41b56f-1862-4711-8349-28f55bbdfec4",
      "cell_type": "markdown",
      "source": "- Load raw text we want to work with\n- [The Verdict by by Edith Wharton](https://en.wikisource.org/wiki/The_Verdict) is a public domain short story",
      "metadata": {}
    },
    {
      "id": "9c61172d-54e2-44e9-9450-cc6b36a0fdd4",
      "cell_type": "code",
      "source": "with open(\"the-verdict.txt\", \"r\", encoding=\"utf-8\") as f:\n    raw_text = f.read()\n    \nprint(\"Total number of character:\", len(raw_text))\nprint(raw_text[:99])",
      "metadata": {},
      "outputs": [
        {
          "name": "stdout",
          "output_type": "stream",
          "text": [
            "Total number of character: 20479\n",
            "I HAD always thought Jack Gisburn rather a cheap genius--though a good fellow enough--so it was no \n"
          ]
        }
      ],
      "execution_count": 1
    },
    {
      "id": "9850367a-9d79-4fcb-85a8-fe0355e2eeaf",
      "cell_type": "markdown",
      "source": "- The goal is to tokenize and embed this text for an LLM\n- Let's develop a simple tokenizer based on some simple sample text that we can then later apply to the text above\n- The following regular expression will split on whitespaces",
      "metadata": {}
    },
    {
      "id": "ec840c97-a407-441b-a8b6-987d8b6bc4d0",
      "cell_type": "code",
      "source": "import re\n\ntext = \"Hello, world. This, is a test.\"\nresult = re.split(r'(\\s)', text)\n\nprint(result)",
      "metadata": {},
      "outputs": [
        {
          "name": "stdout",
          "output_type": "stream",
          "text": [
            "['Hello,', ' ', 'world.', ' ', 'This,', ' ', 'is', ' ', 'a', ' ', 'test.']\n"
          ]
        }
      ],
      "execution_count": 2
    },
    {
      "id": "48488be8-683b-4c96-9116-b6cb2f5febf2",
      "cell_type": "markdown",
      "source": "- We don't only want to split on whitespaces but also commas and periods, so let's modify the regular expression to do that as well",
      "metadata": {}
    },
    {
      "id": "37bbf064-be4d-475a-b302-0706b3fdfe8f",
      "cell_type": "code",
      "source": "result = re.split(r'([,.]|\\s)', text)\n\nprint(result)",
      "metadata": {},
      "outputs": [
        {
          "name": "stdout",
          "output_type": "stream",
          "text": [
            "['Hello', ',', '', ' ', 'world', '.', '', ' ', 'This', ',', '', ' ', 'is', ' ', 'a', ' ', 'test', '.', '']\n"
          ]
        }
      ],
      "execution_count": 3
    },
    {
      "id": "67103e2b-9206-4ec3-8fe2-6f8272730e35",
      "cell_type": "markdown",
      "source": "- As we can see, this creates empty strings, let's remove them",
      "metadata": {}
    },
    {
      "id": "0b5af581-28d4-456f-8dee-56cfeff36f81",
      "cell_type": "code",
      "source": "# Strip whitespace from each item and then filter out any empty strings.\nresult = [item.strip() for item in result if item.strip()]\nprint(result)",
      "metadata": {},
      "outputs": [
        {
          "name": "stdout",
          "output_type": "stream",
          "text": [
            "['Hello', ',', 'world', '.', 'This', ',', 'is', 'a', 'test', '.']\n"
          ]
        }
      ],
      "execution_count": 4
    },
    {
      "id": "0fc7efce-4efd-44e5-8b1e-24b308bed3cf",
      "cell_type": "markdown",
      "source": "- This looks pretty good, but let's also handle other types of punctuation, such as periods, question marks, and so on",
      "metadata": {}
    },
    {
      "id": "d57f16e6-f627-4aab-821a-769ffc3c8ba1",
      "cell_type": "code",
      "source": "text = \"Hello, world. Is this-- a test?\"\n\nresult = re.split(r'([,.?_!\"()\\']|--|\\s)', text)\nresult = [item.strip() for item in result if item.strip()]\nprint(result)",
      "metadata": {},
      "outputs": [
        {
          "name": "stdout",
          "output_type": "stream",
          "text": [
            "['Hello', ',', 'world', '.', 'Is', 'this', '--', 'a', 'test', '?']\n"
          ]
        }
      ],
      "execution_count": 5
    },
    {
      "id": "a064bbe2-c698-4ddd-bc93-221dcc4132ca",
      "cell_type": "markdown",
      "source": "- This is pretty good, and we are now ready to apply this tokenization to the raw text",
      "metadata": {}
    },
    {
      "id": "1d73da6b-bfc1-47a3-b179-565b510a06bc",
      "cell_type": "code",
      "source": "preprocessed = re.split(r'([,.?_!\"()\\']|--|\\s)', raw_text)\npreprocessed = [item.strip() for item in preprocessed if item.strip()]\nprint(preprocessed[:30])",
      "metadata": {},
      "outputs": [
        {
          "name": "stdout",
          "output_type": "stream",
          "text": [
            "['I', 'HAD', 'always', 'thought', 'Jack', 'Gisburn', 'rather', 'a', 'cheap', 'genius', '--', 'though', 'a', 'good', 'fellow', 'enough', '--', 'so', 'it', 'was', 'no', 'great', 'surprise', 'to', 'me', 'to', 'hear', 'that', ',', 'in']\n"
          ]
        }
      ],
      "execution_count": 6
    },
    {
      "id": "50c70362-588f-410e-aed8-a449ca1a81ac",
      "cell_type": "markdown",
      "source": "- Let's calculate the total number of tokens",
      "metadata": {}
    },
    {
      "id": "81267905-df0b-427c-bab2-8126931f62ac",
      "cell_type": "code",
      "source": "print(len(preprocessed))",
      "metadata": {},
      "outputs": [
        {
          "name": "stdout",
          "output_type": "stream",
          "text": [
            "4649\n"
          ]
        }
      ],
      "execution_count": 7
    },
    {
      "id": "bf1fac39-f4d0-4e69-a9ba-a6050d18cec3",
      "cell_type": "markdown",
      "source": "- From these tokens, we can now build a vocabulary that consists of all the unique tokens",
      "metadata": {}
    },
    {
      "id": "6c0a074b-3cbf-4da3-a7c2-d3dc912ce67c",
      "cell_type": "code",
      "source": "all_words = sorted(list(set(preprocessed)))\nvocab_size = len(all_words)\n\nprint(vocab_size)",
      "metadata": {},
      "outputs": [
        {
          "name": "stdout",
          "output_type": "stream",
          "text": [
            "1159\n"
          ]
        }
      ],
      "execution_count": 8
    },
    {
      "id": "f6cf1a07-562b-43d0-b7cf-86c89b22e58a",
      "cell_type": "code",
      "source": "vocab = {token:integer for integer,token in enumerate(all_words)}",
      "metadata": {},
      "outputs": [],
      "execution_count": 9
    },
    {
      "id": "56c80ca2-6be1-4de4-ad33-459deb9b797a",
      "cell_type": "markdown",
      "source": "- Below are the first 50 entries in this vocabulary:",
      "metadata": {}
    },
    {
      "id": "4cb5c711-36ed-412e-a0f3-9d0376f96bf3",
      "cell_type": "code",
      "source": "for i, item in enumerate(vocab.items()):\n    print(item)\n    if i >= 50:\n        break",
      "metadata": {},
      "outputs": [
        {
          "name": "stdout",
          "output_type": "stream",
          "text": [
            "('!', 0)\n",
            "('\"', 1)\n",
            "(\"'\", 2)\n",
            "('(', 3)\n",
            "(')', 4)\n",
            "(',', 5)\n",
            "('--', 6)\n",
            "('.', 7)\n",
            "(':', 8)\n",
            "(';', 9)\n",
            "('?', 10)\n",
            "('A', 11)\n",
            "('Ah', 12)\n",
            "('Among', 13)\n",
            "('And', 14)\n",
            "('Are', 15)\n",
            "('Arrt', 16)\n",
            "('As', 17)\n",
            "('At', 18)\n",
            "('Be', 19)\n",
            "('Begin', 20)\n",
            "('Burlington', 21)\n",
            "('But', 22)\n",
            "('By', 23)\n",
            "('Carlo', 24)\n",
            "('Carlo;', 25)\n",
            "('Chicago', 26)\n",
            "('Claude', 27)\n",
            "('Come', 28)\n",
            "('Croft', 29)\n",
            "('Destroyed', 30)\n",
            "('Devonshire', 31)\n",
            "('Don', 32)\n",
            "('Dubarry', 33)\n",
            "('Emperors', 34)\n",
            "('Florence', 35)\n",
            "('For', 36)\n",
            "('Gallery', 37)\n",
            "('Gideon', 38)\n",
            "('Gisburn', 39)\n",
            "('Gisburns', 40)\n",
            "('Grafton', 41)\n",
            "('Greek', 42)\n",
            "('Grindle', 43)\n",
            "('Grindle:', 44)\n",
            "('Grindles', 45)\n",
            "('HAD', 46)\n",
            "('Had', 47)\n",
            "('Hang', 48)\n",
            "('Has', 49)\n",
            "('He', 50)\n"
          ]
        }
      ],
      "execution_count": 10
    },
    {
      "id": "eb859a18-73df-4d23-99cb-4236ef0acf6a",
      "cell_type": "markdown",
      "source": "- Putting it now all together into a tokenizer class",
      "metadata": {}
    },
    {
      "id": "c9eec325-0d28-4b73-868c-226dad0110ae",
      "cell_type": "code",
      "source": "class SimpleTokenizerV1:\n    def __init__(self, vocab):\n        self.str_to_int = vocab\n        self.int_to_str = {i:s for s,i in vocab.items()}\n    \n    def encode(self, text):\n        preprocessed = re.split(r'([,.?_!\"()\\']|--|\\s)', text)\n        preprocessed = [item.strip() for item in preprocessed if item.strip()]\n        ids = [self.str_to_int[s] for s in preprocessed]\n        return ids\n        \n    def decode(self, ids):\n        text = \" \".join([self.int_to_str[i] for i in ids])\n        # Replace spaces before the specified punctuations\n        text = re.sub(r'\\s+([,.?!\"()\\'])', r'\\1', text)\n        return text",
      "metadata": {},
      "outputs": [],
      "execution_count": 11
    },
    {
      "id": "aa98e563-c703-4629-a805-59f41798d9f5",
      "cell_type": "markdown",
      "source": "- We can use the tokenizer to encode (that is, tokenize) texts into integers\n- These integers can then be embedded (later) as input of/for the LLM",
      "metadata": {}
    },
    {
      "id": "6a83c875-e78f-4d91-b2b8-54be294a1682",
      "cell_type": "code",
      "source": "tokenizer = SimpleTokenizerV1(vocab)\n\ntext = \"\"\"\"It's the last he painted, you know,\" Mrs. Gisburn said with pardonable pride.\"\"\"\nids = tokenizer.encode(text)\nprint(ids)",
      "metadata": {},
      "outputs": [
        {
          "name": "stdout",
          "output_type": "stream",
          "text": [
            "[1, 58, 2, 872, 1013, 615, 541, 763, 5, 1155, 608, 5, 1, 69, 7, 39, 873, 1136, 773, 812, 7]\n"
          ]
        }
      ],
      "execution_count": 12
    },
    {
      "id": "4a982fbb-213c-45cb-a151-3cd576c47c22",
      "cell_type": "markdown",
      "source": "- We can decode the integers back into text",
      "metadata": {}
    },
    {
      "id": "965c6b02-a1c7-47d6-ad56-49511dcdb22c",
      "cell_type": "code",
      "source": "tokenizer.decode(ids)",
      "metadata": {},
      "outputs": [
        {
          "data": {
            "text/plain": [
              "'\" It\\' s the last he painted, you know,\" Mrs. Gisburn said with pardonable pride.'"
            ]
          },
          "execution_count": 13,
          "metadata": {},
          "output_type": "execute_result"
        }
      ],
      "execution_count": 13
    },
    {
      "id": "edb65817-302d-46fc-895f-ab62cc5d1c90",
      "cell_type": "markdown",
      "source": "tokenizer.decode(tokenizer.encode(text))",
      "metadata": {}
    },
    {
      "id": "be542922-5eb0-4089-9c01-52003b03898c",
      "cell_type": "markdown",
      "source": "- Some tokenizers use special tokens to help the LLM with additional context\n- Some of these special tokens are\n  - `[BOS]` (beginning of sequence) marks the beginning of text\n  - `[EOS]` (end of sequence) marks where the text ends (this is usually used to concatenate multiple unrelated texts, e.g., two different Wikipedia articles or two different books, and so on)\n  - `[PAD]` (padding) if we train LLMs with a batch size greater than 1 (we may include multiple texts with different lengths; with the padding token we pad the shorter texts to the longest length so that all texts have an equal length)\n- `[UNK]` to represent works that are not included in the vocabulary\n\n- Note that GPT-2 does not need any of these tokens mentioned above but only uses an `<|endoftext|>` token to reduce complexity\n- The  `<|endoftext|>` is analogous to the `[EOS]` token mentioned above\n- GPT also uses the `<|endoftext|>` for padding (since we typically use a mask when training on batched inputs, we would not attend padded tokens anyways, so it does not matter what these tokens are)\n- GPT-2 does not use an `<UNK>` token for out-of-vocabulary words; instead, GPT-2 uses a byte-pair encoding (BPE) tokenizer, which breaks down words into subword units which we will discuss in a later section\n\n",
      "metadata": {}
    },
    {
      "id": "801e0adb-ad96-4dac-b1c8-489911d6efba",
      "cell_type": "markdown",
      "source": "- Let's see what happens if we tokenize the following text:",
      "metadata": {}
    },
    {
      "id": "b21d3a94-3cc6-4c4c-9be6-4fd430e2e504",
      "cell_type": "code",
      "source": "tokenizer = SimpleTokenizerV1(vocab)\n\ntext = \"Hello, do you like tea. Is this-- a test?\"\n\ntokenizer.encode(text)",
      "metadata": {},
      "outputs": [
        {
          "ename": "KeyError",
          "evalue": "'Hello'",
          "output_type": "error",
          "traceback": [
            "\u001b[0;31m---------------------------------------------------------------------------\u001b[0m",
            "\u001b[0;31mKeyError\u001b[0m                                  Traceback (most recent call last)",
            "Cell \u001b[0;32mIn[14], line 5\u001b[0m\n\u001b[1;32m      1\u001b[0m tokenizer \u001b[38;5;241m=\u001b[39m SimpleTokenizerV1(vocab)\n\u001b[1;32m      3\u001b[0m text \u001b[38;5;241m=\u001b[39m \u001b[38;5;124m\"\u001b[39m\u001b[38;5;124mHello, do you like tea. Is this-- a test?\u001b[39m\u001b[38;5;124m\"\u001b[39m\n\u001b[0;32m----> 5\u001b[0m \u001b[43mtokenizer\u001b[49m\u001b[38;5;241;43m.\u001b[39;49m\u001b[43mencode\u001b[49m\u001b[43m(\u001b[49m\u001b[43mtext\u001b[49m\u001b[43m)\u001b[49m\n",
            "Cell \u001b[0;32mIn[11], line 9\u001b[0m, in \u001b[0;36mSimpleTokenizerV1.encode\u001b[0;34m(self, text)\u001b[0m\n\u001b[1;32m      7\u001b[0m preprocessed \u001b[38;5;241m=\u001b[39m re\u001b[38;5;241m.\u001b[39msplit(\u001b[38;5;124mr\u001b[39m\u001b[38;5;124m'\u001b[39m\u001b[38;5;124m([,.?_!\u001b[39m\u001b[38;5;124m\"\u001b[39m\u001b[38;5;124m()\u001b[39m\u001b[38;5;130;01m\\'\u001b[39;00m\u001b[38;5;124m]|--|\u001b[39m\u001b[38;5;124m\\\u001b[39m\u001b[38;5;124ms)\u001b[39m\u001b[38;5;124m'\u001b[39m, text)\n\u001b[1;32m      8\u001b[0m preprocessed \u001b[38;5;241m=\u001b[39m [item\u001b[38;5;241m.\u001b[39mstrip() \u001b[38;5;28;01mfor\u001b[39;00m item \u001b[38;5;129;01min\u001b[39;00m preprocessed \u001b[38;5;28;01mif\u001b[39;00m item\u001b[38;5;241m.\u001b[39mstrip()]\n\u001b[0;32m----> 9\u001b[0m ids \u001b[38;5;241m=\u001b[39m \u001b[43m[\u001b[49m\u001b[38;5;28;43mself\u001b[39;49m\u001b[38;5;241;43m.\u001b[39;49m\u001b[43mstr_to_int\u001b[49m\u001b[43m[\u001b[49m\u001b[43ms\u001b[49m\u001b[43m]\u001b[49m\u001b[43m \u001b[49m\u001b[38;5;28;43;01mfor\u001b[39;49;00m\u001b[43m \u001b[49m\u001b[43ms\u001b[49m\u001b[43m \u001b[49m\u001b[38;5;129;43;01min\u001b[39;49;00m\u001b[43m \u001b[49m\u001b[43mpreprocessed\u001b[49m\u001b[43m]\u001b[49m\n\u001b[1;32m     10\u001b[0m \u001b[38;5;28;01mreturn\u001b[39;00m ids\n",
            "Cell \u001b[0;32mIn[11], line 9\u001b[0m, in \u001b[0;36m<listcomp>\u001b[0;34m(.0)\u001b[0m\n\u001b[1;32m      7\u001b[0m preprocessed \u001b[38;5;241m=\u001b[39m re\u001b[38;5;241m.\u001b[39msplit(\u001b[38;5;124mr\u001b[39m\u001b[38;5;124m'\u001b[39m\u001b[38;5;124m([,.?_!\u001b[39m\u001b[38;5;124m\"\u001b[39m\u001b[38;5;124m()\u001b[39m\u001b[38;5;130;01m\\'\u001b[39;00m\u001b[38;5;124m]|--|\u001b[39m\u001b[38;5;124m\\\u001b[39m\u001b[38;5;124ms)\u001b[39m\u001b[38;5;124m'\u001b[39m, text)\n\u001b[1;32m      8\u001b[0m preprocessed \u001b[38;5;241m=\u001b[39m [item\u001b[38;5;241m.\u001b[39mstrip() \u001b[38;5;28;01mfor\u001b[39;00m item \u001b[38;5;129;01min\u001b[39;00m preprocessed \u001b[38;5;28;01mif\u001b[39;00m item\u001b[38;5;241m.\u001b[39mstrip()]\n\u001b[0;32m----> 9\u001b[0m ids \u001b[38;5;241m=\u001b[39m [\u001b[38;5;28;43mself\u001b[39;49m\u001b[38;5;241;43m.\u001b[39;49m\u001b[43mstr_to_int\u001b[49m\u001b[43m[\u001b[49m\u001b[43ms\u001b[49m\u001b[43m]\u001b[49m \u001b[38;5;28;01mfor\u001b[39;00m s \u001b[38;5;129;01min\u001b[39;00m preprocessed]\n\u001b[1;32m     10\u001b[0m \u001b[38;5;28;01mreturn\u001b[39;00m ids\n",
            "\u001b[0;31mKeyError\u001b[0m: 'Hello'"
          ]
        }
      ],
      "execution_count": 14
    },
    {
      "id": "b837b3e0-ed08-4e84-b8c8-8184929f695f",
      "cell_type": "markdown",
      "source": "- The above produces an error because the word \"Hello\" is not contained in the vocabulary\n- To deal with such cases, we can add special tokens like `\"<|unk|>\"` to the vocabulary to represent unknown words\n- Since we are already extending the vocabulary, let's add another token called `\"<|endoftext|>\"` which is used in GPT-2 training to denote the end of a text (and it's also used between concatenated text, like if our training datasets consists of multiple articles, books, etc.)",
      "metadata": {}
    },
    {
      "id": "ecdabea1-c3f3-4b34-add1-78e88ad098bf",
      "cell_type": "code",
      "source": "preprocessed = re.split(r'([,.?_!\"()\\']|--|\\s)', raw_text)\npreprocessed = [item.strip() for item in preprocessed if item.strip()]\n\nall_tokens = sorted(list(set(preprocessed)))\nall_tokens.extend([\"<|endoftext|>\", \"<|unk|>\"])\n\nvocab = {token:integer for integer,token in enumerate(all_tokens)}",
      "metadata": {},
      "outputs": [],
      "execution_count": 15
    },
    {
      "id": "4fee6a0d-04e9-45e8-b83e-b8e2db67dcbf",
      "cell_type": "code",
      "source": "len(vocab.items())",
      "metadata": {},
      "outputs": [
        {
          "data": {
            "text/plain": [
              "1161"
            ]
          },
          "execution_count": 16,
          "metadata": {},
          "output_type": "execute_result"
        }
      ],
      "execution_count": 16
    },
    {
      "id": "e76d1eac-73cf-4da9-bbc2-cd20e2fb4697",
      "cell_type": "code",
      "source": "for i, item in enumerate(list(vocab.items())[-5:]):\n    print(item)",
      "metadata": {},
      "outputs": [
        {
          "name": "stdout",
          "output_type": "stream",
          "text": [
            "('younger', 1156)\n",
            "('your', 1157)\n",
            "('yourself', 1158)\n",
            "('<|endoftext|>', 1159)\n",
            "('<|unk|>', 1160)\n"
          ]
        }
      ],
      "execution_count": 17
    },
    {
      "id": "33d20c62-7191-494b-b136-3370151d2382",
      "cell_type": "markdown",
      "source": "- We also need to adjust the tokenizer accordingly so that it knows when and how to use the new <unk> token",
      "metadata": {}
    },
    {
      "id": "75a86a7d-ab4a-4984-af3f-ae16dfab86f3",
      "cell_type": "code",
      "source": "class SimpleTokenizerV2:\n    def __init__(self, vocab):\n        self.str_to_int = vocab\n        self.int_to_str = { i:s for s,i in vocab.items()}\n    \n    def encode(self, text):\n        preprocessed = re.split(r'([,.?_!\"()\\']|--|\\s)', text)\n        preprocessed = [item.strip() for item in preprocessed if item.strip()]\n        preprocessed = [item if item in self.str_to_int \n                        else \"<|unk|>\" for item in preprocessed]\n\n        ids = [self.str_to_int[s] for s in preprocessed]\n        return ids\n        \n    def decode(self, ids):\n        text = \" \".join([self.int_to_str[i] for i in ids])\n        # Replace spaces before the specified punctuations\n        text = re.sub(r'\\s+([,.?!\"()\\'])', r'\\1', text)\n        return text",
      "metadata": {},
      "outputs": [],
      "execution_count": 18
    },
    {
      "id": "e64877bd-c52c-4eca-94a8-3d9bf8e60da6",
      "cell_type": "markdown",
      "source": "Let's try to tokenize text with the modified tokenizer:",
      "metadata": {}
    },
    {
      "id": "54b199bb-27c7-4c2b-963f-6cb1b6381e4a",
      "cell_type": "code",
      "source": "tokenizer = SimpleTokenizerV2(vocab)\n\ntext1 = \"Hello, do you like tea?\"\ntext2 = \"In the sunlit terraces of the palace.\"\n\ntext = \" <|endoftext|> \".join((text1, text2))\n\nprint(text)",
      "metadata": {},
      "outputs": [
        {
          "name": "stdout",
          "output_type": "stream",
          "text": [
            "Hello, do you like tea? <|endoftext|> In the sunlit terraces of the palace.\n"
          ]
        }
      ],
      "execution_count": 19
    },
    {
      "id": "f49031ea-7f24-45c3-b2eb-2444ddb8a257",
      "cell_type": "code",
      "source": "tokenizer.encode(text)",
      "metadata": {},
      "outputs": [
        {
          "data": {
            "text/plain": [
              "[1160,\n",
              " 5,\n",
              " 362,\n",
              " 1155,\n",
              " 642,\n",
              " 1000,\n",
              " 10,\n",
              " 1159,\n",
              " 57,\n",
              " 1013,\n",
              " 981,\n",
              " 1009,\n",
              " 738,\n",
              " 1013,\n",
              " 1160,\n",
              " 7]"
            ]
          },
          "execution_count": 20,
          "metadata": {},
          "output_type": "execute_result"
        }
      ],
      "execution_count": 20
    },
    {
      "id": "a69574c8-77bb-472d-a01c-799c4506d1d2",
      "cell_type": "code",
      "source": "tokenizer.decode(tokenizer.encode(text))",
      "metadata": {},
      "outputs": [
        {
          "data": {
            "text/plain": [
              "'<|unk|>, do you like tea? <|endoftext|> In the sunlit terraces of the <|unk|>.'"
            ]
          },
          "execution_count": 21,
          "metadata": {},
          "output_type": "execute_result"
        }
      ],
      "execution_count": 21
    },
    {
      "id": "551a532f-acb6-47e3-a740-7f817d44f7cb",
      "cell_type": "markdown",
      "source": "- GPT-2 used BytePair encoding (BPE) as its tokenizer\n- it allows the model to break down words that aren't in its predefined vocabulary into smaller subword units or even individual characters, enabling it to handle out-of-vocabulary words\n- For instance, if GPT-2's vocabulary doesn't have the word \"unfamiliarword,\" it might tokenize it as [\"unfam\", \"iliar\", \"word\"] or some other subword breakdown, depending on its trained BPE merges\n- The original BPE tokenizer can be found here: [https://github.com/openai/gpt-2/blob/master/src/encoder.py](https://github.com/openai/gpt-2/blob/master/src/encoder.py)\n- In this chapter, we are using the BPE tokenizer from OpenAI's open-source [tiktoken](https://github.com/openai/tiktoken) library, which implements its core algorithms in Rust to improve computational performance\n- I created a notebook in the [./bytepair_encoder](./bytepair_encoder) that compares these two implementations side-by-side (tiktoken was about 5x faster on the sample text)",
      "metadata": {}
    },
    {
      "id": "857f82a2-18db-49ab-8936-c2e3f02a736f",
      "cell_type": "code",
      "source": "# pip install tiktoken",
      "metadata": {},
      "outputs": [],
      "execution_count": 22
    },
    {
      "id": "8e40e631-c98a-45d9-89cd-801fbe2d3c32",
      "cell_type": "code",
      "source": "import importlib\nimport tiktoken\n\nprint(\"tiktoken version:\", importlib.metadata.version(\"tiktoken\"))",
      "metadata": {},
      "outputs": [
        {
          "name": "stdout",
          "output_type": "stream",
          "text": [
            "tiktoken version: 0.5.1\n"
          ]
        }
      ],
      "execution_count": 23
    },
    {
      "id": "3c6fbe28-60b2-413e-a096-46026bda5092",
      "cell_type": "code",
      "source": "tokenizer = tiktoken.get_encoding(\"gpt2\")",
      "metadata": {},
      "outputs": [],
      "execution_count": 24
    },
    {
      "id": "90bdb4e5-e4b5-43d7-bb51-810dbfa8eb5c",
      "cell_type": "code",
      "source": "text = \"Hello, do you like tea? <|endoftext|> In the sunlit terraces of someunknownPlace.\"\n\nintegers = tokenizer.encode(text, allowed_special={\"<|endoftext|>\"})\n\nprint(integers)",
      "metadata": {},
      "outputs": [
        {
          "name": "stdout",
          "output_type": "stream",
          "text": [
            "[15496, 11, 466, 345, 588, 8887, 30, 220, 50256, 554, 262, 4252, 18250, 8812, 2114, 286, 617, 34680, 27271, 13]\n"
          ]
        }
      ],
      "execution_count": 25
    },
    {
      "id": "9b59b7cf-1453-4406-b13a-61d600c1c093",
      "cell_type": "code",
      "source": "strings = tokenizer.decode(integers)\n\nprint(strings)",
      "metadata": {},
      "outputs": [
        {
          "name": "stdout",
          "output_type": "stream",
          "text": [
            "Hello, do you like tea? <|endoftext|> In the sunlit terraces of someunknownPlace.\n"
          ]
        }
      ],
      "execution_count": 26
    },
    {
      "id": "a2077045-aff1-402c-ae91-57c4b558a523",
      "cell_type": "markdown",
      "source": "- Experiments with unknown words:",
      "metadata": {}
    },
    {
      "id": "ce66e212-727d-442d-a222-f72ec8ed0cd0",
      "cell_type": "code",
      "source": "integers = tokenizer.encode(\"Akwirw ier\")\nprint(integers)",
      "metadata": {},
      "outputs": [
        {
          "name": "stdout",
          "output_type": "stream",
          "text": [
            "[33901, 86, 343, 86, 220, 959]\n"
          ]
        }
      ],
      "execution_count": 27
    },
    {
      "id": "2d2960c5-e49d-4250-bdab-0302e8da4c4e",
      "cell_type": "code",
      "source": "for i in integers:\n    print(f\"{i} -> {tokenizer.decode([i])}\")",
      "metadata": {},
      "outputs": [
        {
          "name": "stdout",
          "output_type": "stream",
          "text": [
            "33901 -> Ak\n",
            "86 -> w\n",
            "343 -> ir\n",
            "86 -> w\n",
            "220 ->  \n",
            "959 -> ier\n"
          ]
        }
      ],
      "execution_count": 28
    },
    {
      "id": "111c2faf-cfcc-4577-865d-919c5cd65bbc",
      "cell_type": "code",
      "source": "strings = tokenizer.decode(integers)\nprint(strings)",
      "metadata": {},
      "outputs": [
        {
          "name": "stdout",
          "output_type": "stream",
          "text": [
            "Akwirw ier\n"
          ]
        }
      ],
      "execution_count": 29
    },
    {
      "id": "7ad6809a-f5fd-4222-9d7a-7aa113ef9e29",
      "cell_type": "code",
      "source": "with open(\"the-verdict.txt\", \"r\", encoding=\"utf-8\") as f:\n    raw_text = f.read()\n\nenc_text = tokenizer.encode(raw_text)\nprint(len(enc_text))",
      "metadata": {},
      "outputs": [
        {
          "name": "stdout",
          "output_type": "stream",
          "text": [
            "5145\n"
          ]
        }
      ],
      "execution_count": 30
    },
    {
      "id": "703a6fe9-8e75-4b50-8f03-50c3c644f47e",
      "cell_type": "markdown",
      "source": "- For each text chunk, we want the inputs and targets\n- Since we want the model to predict the next word, the targets are the inputs shifted by one position to the right",
      "metadata": {}
    },
    {
      "id": "aaa3b8f2-06fa-4cda-a176-07b2623ee079",
      "cell_type": "code",
      "source": "enc_sample = enc_text[50:]",
      "metadata": {},
      "outputs": [],
      "execution_count": 31
    },
    {
      "id": "96b0b0c5-92e3-4ff0-bc80-0aac8c439d07",
      "cell_type": "code",
      "source": "context_size = 4\n\nx = enc_sample[:context_size]\ny = enc_sample[1:context_size+1]\n\nprint(f\"x: {x}\")\nprint(f\"y:      {y}\")",
      "metadata": {},
      "outputs": [
        {
          "name": "stdout",
          "output_type": "stream",
          "text": [
            "x: [290, 4920, 2241, 287]\n",
            "y:      [4920, 2241, 287, 257]\n"
          ]
        }
      ],
      "execution_count": 32
    },
    {
      "id": "0f40a741-aa7a-4465-924f-d3e68de591cd",
      "cell_type": "markdown",
      "source": "- One by one, the prediction would look like as follows:",
      "metadata": {}
    },
    {
      "id": "b536b354-da00-4f26-8ebe-db4c3bf22826",
      "cell_type": "code",
      "source": "for i in range(1, context_size+1):\n    context = enc_sample[:i]\n    desired = enc_sample[i]\n\n    print(context, \"---->\", desired)",
      "metadata": {},
      "outputs": [
        {
          "name": "stdout",
          "output_type": "stream",
          "text": [
            "[290] ----> 4920\n",
            "[290, 4920] ----> 2241\n",
            "[290, 4920, 2241] ----> 287\n",
            "[290, 4920, 2241, 287] ----> 257\n"
          ]
        }
      ],
      "execution_count": 33
    },
    {
      "id": "5d8039a8-95b8-4cfc-835f-07763aba9722",
      "cell_type": "code",
      "source": "for i in range(1, context_size+1):\n    context = enc_sample[:i]\n    desired = enc_sample[i]\n\n    print(tokenizer.decode(context), \"---->\", tokenizer.decode([desired]))",
      "metadata": {},
      "outputs": [
        {
          "name": "stdout",
          "output_type": "stream",
          "text": [
            " and ---->  established\n",
            " and established ---->  himself\n",
            " and established himself ---->  in\n",
            " and established himself in ---->  a\n"
          ]
        }
      ],
      "execution_count": 34
    },
    {
      "id": "b5948263-5747-4073-81ca-b8e725cee31d",
      "cell_type": "markdown",
      "source": "- We will take care of the next-word prediction in a later chapter after we covered the attention mechanism\n- For now, we implement a simple data loader that iterates over the input dataset and returns the inputs and targets shifted by one",
      "metadata": {}
    },
    {
      "id": "37f15edc-d60f-4ca1-b953-23e1123a8fca",
      "cell_type": "markdown",
      "source": "- Install and import PyTorch (see Appendix A for installation tips)",
      "metadata": {}
    },
    {
      "id": "351d59be-11a6-4171-8478-a0995325d98d",
      "cell_type": "code",
      "source": "import torch\nprint(\"PyTorch version:\", torch.__version__)",
      "metadata": {},
      "outputs": [
        {
          "name": "stdout",
          "output_type": "stream",
          "text": [
            "PyTorch version: 2.0.1\n"
          ]
        }
      ],
      "execution_count": 35
    },
    {
      "id": "915695dd-609e-437d-bc67-f5d335d7fc61",
      "cell_type": "markdown",
      "source": "- Create dataset and dataloader that extract chunks from the input text dataset",
      "metadata": {}
    },
    {
      "id": "3fe900f6-dc96-402c-a146-9f2a6f743e1b",
      "cell_type": "code",
      "source": "from torch.utils.data import Dataset, DataLoader\n\n\nclass GPTDatasetV1(Dataset):\n    def __init__(self, txt, tokenizer, max_length, stride):\n        self.tokenizer = tokenizer\n        self.input_ids = []\n        self.target_ids = []\n\n        # Tokenize the entire text\n        token_ids = tokenizer.encode(txt)\n\n        # Use a sliding window to chunk the book into overlapping sequences of max_length\n        for i in range(0, len(token_ids) - max_length, stride):\n            input_chunk = token_ids[i:i + max_length]\n            target_chunk = token_ids[i + 1: i + max_length + 1]\n            self.input_ids.append(torch.tensor(input_chunk))\n            self.target_ids.append(torch.tensor(target_chunk))\n\n    def __len__(self):\n        return len(self.input_ids)\n\n    def __getitem__(self, idx):\n        return self.input_ids[idx], self.target_ids[idx]",
      "metadata": {},
      "outputs": [],
      "execution_count": 36
    },
    {
      "id": "c36f23d0-ec95-4cd8-853c-0a3c3da27c61",
      "cell_type": "code",
      "source": "def create_dataloader(txt, batch_size=4, max_length=256, stride=128):\n    # Initialize the tokenizer\n    tokenizer = tiktoken.get_encoding(\"gpt2\")\n\n    # Create dataset\n    dataset = GPTDatasetV1(txt, tokenizer, max_length, stride)\n\n    # Create dataloader\n    dataloader = DataLoader(dataset, batch_size=batch_size)\n\n    return dataloader",
      "metadata": {},
      "outputs": [],
      "execution_count": 37
    },
    {
      "id": "7dddcc3b-d317-4146-88d7-58c0cadd1735",
      "cell_type": "markdown",
      "source": "- Let's test the dataloader with a batch size of 1 for an LLM with a context size of 4:",
      "metadata": {}
    },
    {
      "id": "0eeb0a41-e3a3-4e44-90a1-0b4ac74ea1fe",
      "cell_type": "code",
      "source": "with open(\"the-verdict.txt\", \"r\", encoding=\"utf-8\") as f:\n    raw_text = f.read()",
      "metadata": {},
      "outputs": [],
      "execution_count": 38
    },
    {
      "id": "ca0f2e6d-57f0-4d71-8f7b-cc8a473bda6d",
      "cell_type": "code",
      "source": "dataloader = create_dataloader(raw_text, batch_size=1, max_length=4, stride=1)\n\ndata_iter = iter(dataloader)\nfirst_batch = next(data_iter)\nprint(first_batch)",
      "metadata": {},
      "outputs": [
        {
          "name": "stdout",
          "output_type": "stream",
          "text": [
            "[tensor([[  40,  367, 2885, 1464]]), tensor([[ 367, 2885, 1464, 1807]])]\n"
          ]
        }
      ],
      "execution_count": 39
    },
    {
      "id": "ccb2ce5f-7e11-4d26-8a53-94b10226e0f0",
      "cell_type": "code",
      "source": "second_batch = next(data_iter)\nprint(second_batch)",
      "metadata": {},
      "outputs": [
        {
          "name": "stdout",
          "output_type": "stream",
          "text": [
            "[tensor([[ 367, 2885, 1464, 1807]]), tensor([[2885, 1464, 1807, 3619]])]\n"
          ]
        }
      ],
      "execution_count": 40
    },
    {
      "id": "dfd19ad7-79a0-4d56-a565-3d855d5a391d",
      "cell_type": "markdown",
      "source": "- We can also create batched outputs\n- Note that we increase the stride here so that we don't have overlaps between the batches, since more overlap could lead to increased overfitting",
      "metadata": {}
    },
    {
      "id": "d297f433-2245-45f0-a2ec-e1134eb6dfff",
      "cell_type": "code",
      "source": "dataloader = create_dataloader(raw_text, batch_size=8, max_length=4, stride=5)\n\ndata_iter = iter(dataloader)\ninputs, targets = next(data_iter)\nprint(\"Inputs:\\n\", inputs)\nprint(\"\\nTargets:\\n\", targets)",
      "metadata": {},
      "outputs": [
        {
          "name": "stdout",
          "output_type": "stream",
          "text": [
            "Inputs:\n",
            " tensor([[   40,   367,  2885,  1464],\n",
            "        [ 3619,   402,   271, 10899],\n",
            "        [  257,  7026, 15632,   438],\n",
            "        [  257,   922,  5891,  1576],\n",
            "        [  568,   340,   373,   645],\n",
            "        [ 5975,   284,   502,   284],\n",
            "        [  326,    11,   287,   262],\n",
            "        [  286,   465, 13476,    11]])\n",
            "\n",
            "Targets:\n",
            " tensor([[  367,  2885,  1464,  1807],\n",
            "        [  402,   271, 10899,  2138],\n",
            "        [ 7026, 15632,   438,  2016],\n",
            "        [  922,  5891,  1576,   438],\n",
            "        [  340,   373,   645,  1049],\n",
            "        [  284,   502,   284,  3285],\n",
            "        [   11,   287,   262,  6001],\n",
            "        [  465, 13476,    11,   339]])\n"
          ]
        }
      ],
      "execution_count": 41
    },
    {
      "id": "c68e4152-596c-463d-84db-ca95f6df1d1b",
      "cell_type": "markdown",
      "source": "- The data is already almost ready for an LLM\n- But lastly let us embed the tokens in a continuous vector representation using an embedding layer\n- Usually, these embedding layers are part of the LLM itself and are updated (trained) during model training",
      "metadata": {}
    },
    {
      "id": "52285b76-54a1-418e-9d77-b49e6c841656",
      "cell_type": "markdown",
      "source": "- Suppose we have the following three input examples with input ids 5, 1, 3, and 2 (after tokenization):",
      "metadata": {}
    },
    {
      "id": "0170dc33-7646-456f-89a0-11ba3b268b70",
      "cell_type": "code",
      "source": "input_ids = torch.tensor([5, 1, 3, 2])",
      "metadata": {},
      "outputs": [],
      "execution_count": 42
    },
    {
      "id": "ecacdb62-8c8c-4e11-a7a2-723dea7d64d6",
      "cell_type": "markdown",
      "source": "- For the sake of simplicity, suppose we have a small vocabulary of only 6 words and we want to create embeddings of size 3:",
      "metadata": {}
    },
    {
      "id": "548046e3-7b2c-47af-b703-18827215ff39",
      "cell_type": "code",
      "source": "vocab_size = 6\noutput_dim = 3\n\ntorch.manual_seed(123)\nembedding_layer = torch.nn.Embedding(vocab_size, output_dim)",
      "metadata": {},
      "outputs": [],
      "execution_count": 43
    },
    {
      "id": "2e314fd8-c300-40bc-b20c-841f3037425c",
      "cell_type": "markdown",
      "source": "- This would result in a 6x3 weight matrix:",
      "metadata": {}
    },
    {
      "id": "bd426be4-9a45-40e3-84c2-7643dc6f5b4b",
      "cell_type": "code",
      "source": "print(embedding_layer.weight)",
      "metadata": {},
      "outputs": [
        {
          "name": "stdout",
          "output_type": "stream",
          "text": [
            "Parameter containing:\n",
            "tensor([[ 0.3374, -0.1778, -0.1690],\n",
            "        [ 0.9178,  1.5810,  1.3010],\n",
            "        [ 1.2753, -0.2010, -0.1606],\n",
            "        [-0.4015,  0.9666, -1.1481],\n",
            "        [-1.1589,  0.3255, -0.6315],\n",
            "        [-2.8400, -0.7849, -1.4096]], requires_grad=True)\n"
          ]
        }
      ],
      "execution_count": 44
    },
    {
      "id": "35aa2735-5755-46ae-85ee-fb5dcc229aa0",
      "cell_type": "markdown",
      "source": "- For those who are familiar with one-hot encoding, the embedding layer approach above is essentially just a more efficient way of implementing one-hot encoding followed by matrix multiplication in a fully-connected layer, which is described in the supplementary code in [./embedding_vs_matmul](./embedding_vs_matmul)\n- Because the embedding layer is just a more efficient implementation that is equivalent to the one-hot encoding and matrix-multiplication approach it can be seen as a neural network layer that can be optimized via backpropagation",
      "metadata": {}
    },
    {
      "id": "05653f61-108c-44f5-a634-0988737eac3d",
      "cell_type": "markdown",
      "source": "- To convert a token with id 3 into a 3-dimensional vector, we do the following:",
      "metadata": {}
    },
    {
      "id": "96deb48a-6714-4ea5-b53d-8b81560a75dc",
      "cell_type": "code",
      "source": "print(embedding_layer(torch.tensor([3])))",
      "metadata": {},
      "outputs": [
        {
          "name": "stdout",
          "output_type": "stream",
          "text": [
            "tensor([[-0.4015,  0.9666, -1.1481]], grad_fn=<EmbeddingBackward0>)\n"
          ]
        }
      ],
      "execution_count": 45
    },
    {
      "id": "17dcf06c-be63-4d64-8c39-06c0ad8b7faa",
      "cell_type": "markdown",
      "source": "- Note that the above is the 4th row if the `embedding_layer` weight matrix\n- To embed all three `input_ids` values above, we do",
      "metadata": {}
    },
    {
      "id": "b9049ea0-e50a-4954-b2bb-f10214658df4",
      "cell_type": "code",
      "source": "print(embedding_layer(input_ids))",
      "metadata": {},
      "outputs": [
        {
          "name": "stdout",
          "output_type": "stream",
          "text": [
            "tensor([[-2.8400, -0.7849, -1.4096],\n",
            "        [ 0.9178,  1.5810,  1.3010],\n",
            "        [-0.4015,  0.9666, -1.1481],\n",
            "        [ 1.2753, -0.2010, -0.1606]], grad_fn=<EmbeddingBackward0>)\n"
          ]
        }
      ],
      "execution_count": 46
    },
    {
      "id": "83cddec8-6514-4b51-b460-67241b1e402b",
      "cell_type": "markdown",
      "source": "- The BytePair encoder has a vocabulary size of 50,257:\n- Suppose we want to encode the input tokens into a 256-dimensional vector representation:",
      "metadata": {}
    },
    {
      "id": "a64e11a7-105c-4f3e-b163-16e769a35b00",
      "cell_type": "code",
      "source": "vocab_size = 50257\noutput_dim = 256\n\ntoken_embedding_layer = torch.nn.Embedding(vocab_size, output_dim)",
      "metadata": {},
      "outputs": [],
      "execution_count": 47
    },
    {
      "id": "db76de8f-51ab-41c7-92b6-0c5049fa765b",
      "cell_type": "markdown",
      "source": "- If we sample data from the dataloader, we embed the tokens in each batch into a 256-dimensional vector\n- If we have a batch size of 8 with 4 tokens each, this results in a 8 x 4 x 256 tensor:",
      "metadata": {}
    },
    {
      "id": "93b7949e-6b0c-4ce0-b458-26b13e373d16",
      "cell_type": "code",
      "source": "max_length = 4\ndataloader = create_dataloader(raw_text, batch_size=8, max_length=max_length, stride=5)\ndata_iter = iter(dataloader)\ninputs, targets = next(data_iter)",
      "metadata": {},
      "outputs": [],
      "execution_count": 48
    },
    {
      "id": "939ad530-46a9-4891-92c7-47ce5a4dd287",
      "cell_type": "code",
      "source": "print(\"Token IDs:\\n\", inputs)\nprint(\"\\nInputs shape:\\n\", inputs.shape)",
      "metadata": {},
      "outputs": [
        {
          "name": "stdout",
          "output_type": "stream",
          "text": [
            "Token IDs:\n",
            " tensor([[   40,   367,  2885,  1464],\n",
            "        [ 3619,   402,   271, 10899],\n",
            "        [  257,  7026, 15632,   438],\n",
            "        [  257,   922,  5891,  1576],\n",
            "        [  568,   340,   373,   645],\n",
            "        [ 5975,   284,   502,   284],\n",
            "        [  326,    11,   287,   262],\n",
            "        [  286,   465, 13476,    11]])\n",
            "\n",
            "Inputs shape:\n",
            " torch.Size([8, 4])\n"
          ]
        }
      ],
      "execution_count": 49
    },
    {
      "id": "7b721b04-50b3-42ae-984c-8082c3d200ce",
      "cell_type": "code",
      "source": "token_embeddings = token_embedding_layer(inputs)\nprint(token_embeddings.shape)",
      "metadata": {},
      "outputs": [
        {
          "name": "stdout",
          "output_type": "stream",
          "text": [
            "torch.Size([8, 4, 256])\n"
          ]
        }
      ],
      "execution_count": 50
    },
    {
      "id": "88596f08-675a-44db-a550-5a30cccc9403",
      "cell_type": "markdown",
      "source": "- GPT-2 uses absolute position embeddings, so we just create another embedding layer:",
      "metadata": {}
    },
    {
      "id": "c10579df-0e8f-4a2b-bed6-e23135f37701",
      "cell_type": "code",
      "source": "block_size = max_length\npos_embedding_layer = torch.nn.Embedding(block_size, output_dim)",
      "metadata": {},
      "outputs": [],
      "execution_count": 51
    },
    {
      "id": "515729a1-87ad-4a73-b70e-f6116b77c4dd",
      "cell_type": "code",
      "source": "pos_embeddings = pos_embedding_layer(torch.arange(max_length))\nprint(pos_embeddings.shape)",
      "metadata": {},
      "outputs": [
        {
          "name": "stdout",
          "output_type": "stream",
          "text": [
            "torch.Size([4, 256])\n"
          ]
        }
      ],
      "execution_count": 52
    },
    {
      "id": "5ed3d5c8-db56-4792-98b3-0a428381e097",
      "cell_type": "markdown",
      "source": "- To create the input embeddings used in an LLM, we simply add the token and the positional embeddings:",
      "metadata": {}
    },
    {
      "id": "8af0bb96-246f-49ae-b71d-d7a455ccb7f9",
      "cell_type": "code",
      "source": "input_embeddings = token_embeddings + pos_embeddings\nprint(input_embeddings.shape)",
      "metadata": {},
      "outputs": [
        {
          "name": "stdout",
          "output_type": "stream",
          "text": [
            "torch.Size([8, 4, 256])\n"
          ]
        }
      ],
      "execution_count": 53
    },
    {
      "id": "dce94eae-7529-4955-96b6-62769254d37b",
      "cell_type": "markdown",
      "source": "Packages that are being used in this notebook:",
      "metadata": {}
    },
    {
      "id": "68621742-d37a-4a01-80ee-0830ea12ce9b",
      "cell_type": "code",
      "source": "from importlib.metadata import version\nimport torch\n\nprint(\"torch version:\", version(\"torch\"))",
      "metadata": {},
      "outputs": [
        {
          "name": "stdout",
          "output_type": "stream",
          "text": [
            "torch version: 2.1.0\n"
          ]
        }
      ],
      "execution_count": 1
    },
    {
      "id": "737d1062-f274-43ef-9ea4-d09a4974b2a7",
      "cell_type": "markdown",
      "source": "- This section explains a very simplified variant of self-attention, which does not contain any trainable weights. This is purely for illustration purposes and NOT the attention mechanism that is used in transformers. The next section, section 3.3.2, will extend this simple attention mechanism to implement the real self-attention mechanism.\n- Suppose we are given an input sequence $x^{(1)}$ to $x^{(T)}$.\n  - The input is a text (for example, a sentence like \"Your journey starts with one step\") that has already been converted into token embeddings as described in chapter 2.\n  - For instance, $x^{(1)}$ is a d-dimensional vector representing the word \"Your\", and so forth.\n- **Goal:** compute context vectors $z^{(i)}$ for each input sequence element $x^{(i)}$ in $x^{(1)}$ to $x^{(T)}$ (where $z$ and $x$ have the same dimension).\n    - A context vector $z^{(i)}$ is a weighted sum over the inputs $x^{(1)}$ to $x^{(T)}$.\n    - The context vector is \"context\"-specific to a certain input.\n      - Instead of $x^{(i)}$ as a placeholder for an arbitrary input token, let's consider the second input, $x^{(2)}$.\n      - And to continue with a concrete example, instead of the placeholder $z^{(i)}$, we consider the second output context vector, $z^{(2)}$.\n      - The second context vector, $z^{(2)}$, is a weighted sum over all inputs $x^{(1)}$ to $x^{(T)}$ weighted with respect to the second input element, $x^{(2)}$. The attention weights are the weights that determine how much each of the input elements contributes to the weighted sum when computing $z^{(2)}$.\n    - In short, think of $z^{(2)}$ as a modified version of $x^{(2)}$ that also incorporates information about all other input elements that are relevant to a given task at hand.",
      "metadata": {}
    },
    {
      "id": "ee0e66c5-fa69-4d1a-8ff0-e111840890c2",
      "cell_type": "markdown",
      "source": "- By convention, the unnormalized attention weights are referred to as **\"attention scores\"** whereas the normalized attention scores, which sum to 1, are referred to as **\"attention weights\"**.\n\n- The attention weights and context vector calculation are summarized in the figure below:",
      "metadata": {}
    },
    {
      "id": "f4d8bf03-61b3-4677-82cd-d44fecefd0a4",
      "cell_type": "markdown",
      "source": "- The code below walks through the figure above step by step.\n\n<br>\n\n- **Step 1:** compute unnormalized attention scores $\\omega$.\n- Suppose we use the second input token as the query, that is, $q^{(2)} = x^{(2)}$, we compute the unnormalized attention scores via dot products:\n    - $\\omega_{12} = x^{(1)} q^{(2)\\top}$\n    - $\\omega_{22} = x^{(2)} q^{(2)\\top}$\n    - $\\omega_{23} = x^{(3)} q^{(2)\\top}$\n    - ...\n    - $\\omega_{2T} = x^{(T)} q^{(2)\\top}$\n- Above, $\\omega$ is the Greek letter \"omega\" used to symbolize the unnormalized attention scores.\n    - The subscript \"21\" in $\\omega_{21}$ means that input sequence element 2 was used as a query against input sequence element 1.",
      "metadata": {}
    },
    {
      "id": "f919e649-71a0-4fbe-82a8-7a089542738d",
      "cell_type": "markdown",
      "source": "- Suppose we have the following input sentence that is already embedded in 3-dimensional vectors as described in chapter 3 (we use a very small embedding dimension here for illustration purposes, so that it fits onto the page without line breaks):",
      "metadata": {}
    },
    {
      "id": "7d93bd1e-c3f3-45d9-aec3-2d79f8ba730b",
      "cell_type": "code",
      "source": "import torch\n\ninputs = torch.tensor(\n  [[0.43, 0.15, 0.89], # Your     (x^1)\n   [0.55, 0.87, 0.66], # journey  (x^2)\n   [0.57, 0.85, 0.64], # starts   (x^3)\n   [0.22, 0.58, 0.33], # with     (x^4)\n   [0.77, 0.25, 0.10], # one      (x^5)\n   [0.05, 0.80, 0.55]] # step     (x^6)\n)",
      "metadata": {},
      "outputs": [],
      "execution_count": 2
    },
    {
      "id": "af1e72a0-988f-41fb-9866-b5ec5146618a",
      "cell_type": "markdown",
      "source": "- We use input sequence element 2, $x^{(2)}$, as an example to compute context vector $z^{(2)}$; later in this section, we will generalize this to compute all context vectors.\n- The first step is to compute the unnormalized attention scores by computing the dot product between the query $x^{(2)}$ and all other input tokens:",
      "metadata": {}
    },
    {
      "id": "0d8aaed0-df97-42bf-8e4b-c6fcffbe0bf6",
      "cell_type": "code",
      "source": "query = inputs[1]  # 2nd input token is the query\n\nattn_scores_2 = torch.empty(inputs.shape[0])\nfor i, x_i in enumerate(inputs):\n    attn_scores_2[i] = torch.dot(x_i, query) # dot product (transpose not necessary here since they are 1-dim vectors)\n\nprint(attn_scores_2)",
      "metadata": {},
      "outputs": [
        {
          "name": "stdout",
          "output_type": "stream",
          "text": [
            "tensor([0.9544, 1.4950, 1.4754, 0.8434, 0.7070, 1.0865])\n"
          ]
        }
      ],
      "execution_count": 3
    },
    {
      "id": "0b1a4587-2ac5-4aec-b159-55d70d528d25",
      "cell_type": "markdown",
      "source": "- Side note: a dot product is essentially a shorthand for multiplying two vectors elements-wise and summing the resulting products:",
      "metadata": {}
    },
    {
      "id": "09ff9df3-3f8c-46b8-9a84-8d96c3dfb713",
      "cell_type": "code",
      "source": "res = 0.\n\nfor idx, element in enumerate(inputs[0]):\n    res += inputs[0][idx] * query[idx]\n\nprint(res)\nprint(torch.dot(inputs[0], query))",
      "metadata": {},
      "outputs": [
        {
          "name": "stdout",
          "output_type": "stream",
          "text": [
            "tensor(0.9544)\n",
            "tensor(0.9544)\n"
          ]
        }
      ],
      "execution_count": 4
    },
    {
      "id": "c9c634ce-c67f-4568-8888-a161ff46191e",
      "cell_type": "markdown",
      "source": "- **Step 2:** normalize the unnormalized attention scores (\"omegas\", $\\omega$) so that they sum up to 1.\n- Here is a simple way to normalize the unnormalized attention scores to sum up to 1 (a convention, useful for interpretation, and important for training stability):",
      "metadata": {}
    },
    {
      "id": "8efdb5ed-51c1-4d21-8136-275e853f40dc",
      "cell_type": "code",
      "source": "attn_weights_2_tmp = attn_scores_2 / attn_scores_2.sum()\n\nprint(\"Attention weights:\", attn_weights_2_tmp)\nprint(\"Sum:\", attn_weights_2_tmp.sum())",
      "metadata": {},
      "outputs": [
        {
          "name": "stdout",
          "output_type": "stream",
          "text": [
            "Attention weights: tensor([0.1455, 0.2278, 0.2249, 0.1285, 0.1077, 0.1656])\n",
            "Sum: tensor(1.0000)\n"
          ]
        }
      ],
      "execution_count": 5
    },
    {
      "id": "68eb295f-5c96-4c95-8922-c7259de5bacb",
      "cell_type": "markdown",
      "source": "- However, in practice, using the softmax function for normalization, which is better at handling extreme values and has more desirable gradient properties during training, is common and recommended.\n- Here's a naive implementation of a softmax function for scaling, which also normalizes the vector elements such that they sum up to 1:",
      "metadata": {}
    },
    {
      "id": "d40324cb-7913-42ff-b501-0cae057fdd07",
      "cell_type": "code",
      "source": "def softmax_naive(x):\n    return torch.exp(x) / torch.exp(x).sum(dim=0)\n\nattn_weights_2_naive = softmax_naive(attn_scores_2)\n\nprint(\"Attention weights:\", attn_weights_2_naive)\nprint(\"Sum:\", attn_weights_2_naive.sum())",
      "metadata": {},
      "outputs": [
        {
          "name": "stdout",
          "output_type": "stream",
          "text": [
            "Attention weights: tensor([0.1385, 0.2379, 0.2333, 0.1240, 0.1082, 0.1581])\n",
            "Sum: tensor(1.)\n"
          ]
        }
      ],
      "execution_count": 6
    },
    {
      "id": "416003a7-f0fa-4837-949d-09bc592c19f8",
      "cell_type": "markdown",
      "source": "- The naive implementation above can suffer from numerical instability issues for large or small input values due to overflow and underflow issues.\n- Hence, in practice, it's recommended to use the PyTorch implementation of softmax instead, which has been highly optimized for performance:",
      "metadata": {}
    },
    {
      "id": "2a883181-acb3-4c5f-858e-ff4fac48ff3b",
      "cell_type": "code",
      "source": "attn_weights_2 = torch.softmax(attn_scores_2, dim=0)\n\nprint(\"Attention weights:\", attn_weights_2)\nprint(\"Sum:\", attn_weights_2.sum())",
      "metadata": {},
      "outputs": [
        {
          "name": "stdout",
          "output_type": "stream",
          "text": [
            "Attention weights: tensor([0.1385, 0.2379, 0.2333, 0.1240, 0.1082, 0.1581])\n",
            "Sum: tensor(1.)\n"
          ]
        }
      ],
      "execution_count": 7
    },
    {
      "id": "d0d7ad47-4c4f-4cf0-9058-be71a54410ac",
      "cell_type": "markdown",
      "source": "- **Step 3**: compute the context vector $z^{(2)}$ by multiplying the embedded input tokens, $x^{(i)}$ with the attention weights and sum the resulting vectors:",
      "metadata": {}
    },
    {
      "id": "2abc11d2-2dbc-4dfe-8bf8-6f8eecfb06e3",
      "cell_type": "code",
      "source": "query = inputs[1] # 2nd input token is the query\n\ncontext_vec_2 = torch.zeros(query.shape)\nfor i,x_i in enumerate(inputs):\n    context_vec_2 += attn_weights_2[i]*x_i\n\nprint(context_vec_2)",
      "metadata": {},
      "outputs": [
        {
          "name": "stdout",
          "output_type": "stream",
          "text": [
            "tensor([0.4419, 0.6515, 0.5683])\n"
          ]
        }
      ],
      "execution_count": 8
    },
    {
      "id": "7787028b-b933-4abf-98a4-0eed9ba9e321",
      "cell_type": "markdown",
      "source": "- Apply previous **step 1** to all pairwise elements to compute the unnormalized attention score matrix:",
      "metadata": {}
    },
    {
      "id": "93e674b3-6d12-4df4-be2f-72747d4446fa",
      "cell_type": "code",
      "source": "attn_scores = torch.empty(6, 6)\n\nfor i, x_i in enumerate(inputs):\n    for j, x_j in enumerate(inputs):\n        attn_scores[i, j] = torch.dot(x_i, x_j)\n\nprint(attn_scores)",
      "metadata": {},
      "outputs": [
        {
          "name": "stdout",
          "output_type": "stream",
          "text": [
            "tensor([[0.9995, 0.9544, 0.9422, 0.4753, 0.4576, 0.6310],\n",
            "        [0.9544, 1.4950, 1.4754, 0.8434, 0.7070, 1.0865],\n",
            "        [0.9422, 1.4754, 1.4570, 0.8296, 0.7154, 1.0605],\n",
            "        [0.4753, 0.8434, 0.8296, 0.4937, 0.3474, 0.6565],\n",
            "        [0.4576, 0.7070, 0.7154, 0.3474, 0.6654, 0.2935],\n",
            "        [0.6310, 1.0865, 1.0605, 0.6565, 0.2935, 0.9450]])\n"
          ]
        }
      ],
      "execution_count": 9
    },
    {
      "id": "76fc7d34-2ab1-4fa2-9d09-b09a20df448d",
      "cell_type": "markdown",
      "source": "- We can achieve the same as above more efficiently via matrix multiplication:",
      "metadata": {}
    },
    {
      "id": "29121c74-fd60-42bf-8eed-c42f3dcc4bdf",
      "cell_type": "code",
      "source": "attn_scores = inputs @ inputs.T\nprint(attn_scores)",
      "metadata": {},
      "outputs": [
        {
          "name": "stdout",
          "output_type": "stream",
          "text": [
            "tensor([[0.9995, 0.9544, 0.9422, 0.4753, 0.4576, 0.6310],\n",
            "        [0.9544, 1.4950, 1.4754, 0.8434, 0.7070, 1.0865],\n",
            "        [0.9422, 1.4754, 1.4570, 0.8296, 0.7154, 1.0605],\n",
            "        [0.4753, 0.8434, 0.8296, 0.4937, 0.3474, 0.6565],\n",
            "        [0.4576, 0.7070, 0.7154, 0.3474, 0.6654, 0.2935],\n",
            "        [0.6310, 1.0865, 1.0605, 0.6565, 0.2935, 0.9450]])\n"
          ]
        }
      ],
      "execution_count": 10
    },
    {
      "id": "aebe6399-441f-4e07-89db-1187d273b5a7",
      "cell_type": "markdown",
      "source": "- Similar to **step 2** previously, we normalize each row so that the values in each row sum to 1:",
      "metadata": {}
    },
    {
      "id": "e68f8db7-fa87-46bb-9f98-59ff3e5f0db6",
      "cell_type": "code",
      "source": "attn_weights = torch.softmax(attn_scores, dim=1)\nprint(attn_weights)",
      "metadata": {},
      "outputs": [
        {
          "name": "stdout",
          "output_type": "stream",
          "text": [
            "tensor([[0.2098, 0.2006, 0.1981, 0.1242, 0.1220, 0.1452],\n",
            "        [0.1385, 0.2379, 0.2333, 0.1240, 0.1082, 0.1581],\n",
            "        [0.1390, 0.2369, 0.2326, 0.1242, 0.1108, 0.1565],\n",
            "        [0.1435, 0.2074, 0.2046, 0.1462, 0.1263, 0.1720],\n",
            "        [0.1526, 0.1958, 0.1975, 0.1367, 0.1879, 0.1295],\n",
            "        [0.1385, 0.2184, 0.2128, 0.1420, 0.0988, 0.1896]])\n"
          ]
        }
      ],
      "execution_count": 11
    },
    {
      "id": "5f6f8ebf-0588-4300-b900-d3ab2cd6f8c5",
      "cell_type": "markdown",
      "source": "- Quick verification that the values in each row indeed sum to 1:",
      "metadata": {}
    },
    {
      "id": "a9042683-ed63-494d-99e9-7cd24f439bda",
      "cell_type": "code",
      "source": "row_2_sum = sum([0.1385, 0.2379, 0.2333, 0.1240, 0.1082, 0.1581])\nprint(\"Row 2 sum:\", row_2_sum)\n\nprint(\"All row sums:\", attn_weights.sum(dim=1))",
      "metadata": {},
      "outputs": [
        {
          "name": "stdout",
          "output_type": "stream",
          "text": [
            "Row 2 sum: 1.0\n",
            "All row sums: tensor([1.0000, 1.0000, 1.0000, 1.0000, 1.0000, 1.0000])\n"
          ]
        }
      ],
      "execution_count": 12
    },
    {
      "id": "3eb2adbe-79ca-449a-a18c-8a92d44b9d36",
      "cell_type": "markdown",
      "source": "- Apply previous **step 3** to compute all context vectors:",
      "metadata": {}
    },
    {
      "id": "c4f86888-44ff-4b4e-bdb9-8c53f5db1072",
      "cell_type": "code",
      "source": "all_context_vecs = attn_weights @ inputs\nprint(all_context_vecs)",
      "metadata": {},
      "outputs": [
        {
          "name": "stdout",
          "output_type": "stream",
          "text": [
            "tensor([[0.4421, 0.5931, 0.5790],\n",
            "        [0.4419, 0.6515, 0.5683],\n",
            "        [0.4431, 0.6496, 0.5671],\n",
            "        [0.4304, 0.6298, 0.5510],\n",
            "        [0.4671, 0.5910, 0.5266],\n",
            "        [0.4177, 0.6503, 0.5645]])\n"
          ]
        }
      ],
      "execution_count": 13
    },
    {
      "id": "234ac8da-0329-4dd4-8935-c4171e877a53",
      "cell_type": "markdown",
      "source": "- As a sanity check, the previously computed context vector $z^{(2)} = [0.4419, 0.6515, 0.5683]$ can be found in the 2nd row in above: ",
      "metadata": {}
    },
    {
      "id": "36fa27ea-8635-42e8-90a7-0f16373c48cb",
      "cell_type": "code",
      "source": "print(\"Previous 2nd context vector:\", context_vec_2)",
      "metadata": {},
      "outputs": [
        {
          "name": "stdout",
          "output_type": "stream",
          "text": [
            "Previous 2nd context vector: tensor([0.4419, 0.6515, 0.5683])\n"
          ]
        }
      ],
      "execution_count": 14
    },
    {
      "id": "0d4d4c34-9848-47c3-94f2-bb3266eea072",
      "cell_type": "markdown",
      "source": "- In this section, we are implementing the self-attention mechanism that is used in the original transformer architecture, the GPT models, and most other popular LLMs.\n- This self-attention mechanism is also called \"scaled dot-product attention\".\n- The overall idea is similar to before:\n  - We want to compute context vectors as weighted sums over the input vectors specific to a certain input element.\n  - For the above, we need attention weights.\n- As you will see, there are only slight differences compared to the basic attention mechanism introduced earlier:\n  - The most notable difference is the introduction of weight matrices that are updated during model training.\n  - These trainable weight matrices are crucial so that the model (specifically, the attention module inside the model) can learn to produce \"good\" context vectors.",
      "metadata": {}
    },
    {
      "id": "2e5a75ba-9545-484e-a882-5ea824dc9156",
      "cell_type": "markdown",
      "source": "- Implementing the self-attention mechanism step by step, we will start by introducing the three training weight matrices $W_q$, $W_k$, and $W_v$.\n- These three matrices are used to project the embedded input tokens, $x^{(i)}$, into query, key, and value vectors via matrix multiplication:\n\n  - Query vector: $q^{(i)} = W_q \\,x^{(i)}$\n  - Key vector: $k^{(i)} = W_k \\,x^{(i)}$\n  - Value vector: $v^{(i)} = W_v \\,x^{(i)}$\n",
      "metadata": {}
    },
    {
      "id": "5714d643-fba8-4f69-9e5f-122c54894537",
      "cell_type": "markdown",
      "source": "- The embedding dimensions of the input $x$ and the query vector $q$ can be the same or different, depending on the model's design and specific implementation.\n- In GPT models, the input and output dimensions are usually the same, but for illustration purposes, to better follow the computation, we choose different input and output dimensions here:",
      "metadata": {}
    },
    {
      "id": "454bc4ad-95fb-4ed9-8322-c65c9fc5d681",
      "cell_type": "code",
      "source": "x_2 = inputs[1] # second input element\nd_in = inputs.shape[1] # the input embedding size, d=3\nd_out = 2 # the output embedding size, d=2",
      "metadata": {},
      "outputs": [],
      "execution_count": 15
    },
    {
      "id": "8bfa0542-a3b1-4a3c-8eee-2bb6b691c4fb",
      "cell_type": "markdown",
      "source": "- Below, we initialize the three weight matrices; note that we are setting `requires_grad=False` to reduce clutter in the outputs for illustration purposes, but if we were to use the weight matrices for model training, we would set `requires_grad=True` to update these matrices during model training.",
      "metadata": {}
    },
    {
      "id": "48ab424d-04bd-41c4-aeb3-64e9394fa437",
      "cell_type": "code",
      "source": "torch.manual_seed(123)\n\nW_query = torch.nn.Parameter(torch.rand(d_in, d_out), requires_grad=False)\nW_key   = torch.nn.Parameter(torch.rand(d_in, d_out), requires_grad=False)\nW_value = torch.nn.Parameter(torch.rand(d_in, d_out), requires_grad=False)",
      "metadata": {},
      "outputs": [],
      "execution_count": 16
    },
    {
      "id": "38206c8d-edad-48a1-b167-4df80ac348e0",
      "cell_type": "markdown",
      "source": "- Next we compute the query, key, and value vectors:",
      "metadata": {}
    },
    {
      "id": "3399fe44-3ba0-4b96-a327-d27c850de7fb",
      "cell_type": "code",
      "source": "query_2 = x_2 @ W_query # _2 because it's with respect to the 2nd input element\nkey_2 = x_2 @ W_key \nvalue_2 = x_2 @ W_value\n\nprint(query_2)",
      "metadata": {},
      "outputs": [
        {
          "name": "stdout",
          "output_type": "stream",
          "text": [
            "tensor([0.4306, 1.4551])\n"
          ]
        }
      ],
      "execution_count": 17
    },
    {
      "id": "2eaf8c20-1cca-4774-9805-c7e4cd9c43a9",
      "cell_type": "markdown",
      "source": "- As we can see below, we successfully projected the 6 input tokens from a 3D onto a 2D embedding space:",
      "metadata": {}
    },
    {
      "id": "aa7febd8-9545-4125-bd97-45a9ba5c13ce",
      "cell_type": "code",
      "source": "keys = inputs @ W_key \nvalues = inputs @ W_value\n\nprint(\"keys.shape:\", keys.shape)\nprint(\"values.shape:\", values.shape)",
      "metadata": {},
      "outputs": [
        {
          "name": "stdout",
          "output_type": "stream",
          "text": [
            "keys.shape: torch.Size([6, 2])\n",
            "values.shape: torch.Size([6, 2])\n"
          ]
        }
      ],
      "execution_count": 18
    },
    {
      "id": "1f5a542a-a566-432f-a123-43c2a6e7ed4b",
      "cell_type": "markdown",
      "source": "- In the next step, step 2, we compute the unnormalized attention scores by computing the dot product between the query and each key vector:",
      "metadata": {}
    },
    {
      "id": "ccd45a7d-3658-4b1d-aa4d-6b0476eacb35",
      "cell_type": "code",
      "source": "keys_2 = keys[1] # Python starts index at 0\nattn_score_22 = query_2.dot(keys_2)\nprint(attn_score_22)",
      "metadata": {},
      "outputs": [
        {
          "name": "stdout",
          "output_type": "stream",
          "text": [
            "tensor(1.8524)\n"
          ]
        }
      ],
      "execution_count": 19
    },
    {
      "id": "5967c196-3a9b-4d19-8512-84e5c507d1e2",
      "cell_type": "markdown",
      "source": "- Since we have 6 inputs, we have 6 attention scores for the given query vector:",
      "metadata": {}
    },
    {
      "id": "5889a750-e8dd-4227-808b-a004c337b4ff",
      "cell_type": "code",
      "source": "attn_scores_2 = query_2 @ keys.T # All attention scores for given query\nprint(attn_scores_2)",
      "metadata": {},
      "outputs": [
        {
          "name": "stdout",
          "output_type": "stream",
          "text": [
            "tensor([1.2705, 1.8524, 1.8111, 1.0795, 0.5577, 1.5440])\n"
          ]
        }
      ],
      "execution_count": 20
    },
    {
      "id": "07fdee23-6d82-4fa6-99a5-1b3a0a0ee2db",
      "cell_type": "markdown",
      "source": "- Next, in **step 3**, we compute the attention weights (normalized attention scores that sum up to 1) using the softmax function we used earlier.\n- The difference to earlier is that we now scale the attention scores by dividing them by the square root of the embedding dimension, $\\sqrt{d_k}$ (i.e., `d_k**0.5`):",
      "metadata": {}
    },
    {
      "id": "727a974e-9cd8-476c-99d7-1deef56fa0af",
      "cell_type": "code",
      "source": "d_k = keys.shape[1]\nattn_weights_2 = torch.softmax(attn_scores_2 / d_k**0.5, dim=-1)\nprint(attn_weights_2)",
      "metadata": {},
      "outputs": [
        {
          "name": "stdout",
          "output_type": "stream",
          "text": [
            "tensor([0.1500, 0.2264, 0.2199, 0.1311, 0.0906, 0.1820])\n"
          ]
        }
      ],
      "execution_count": 21
    },
    {
      "id": "e7be51a1-1feb-443f-bcb8-23ae6cb2e2dc",
      "cell_type": "markdown",
      "source": "- In **step 4**, we now compute the context vector for input query vector 2:",
      "metadata": {}
    },
    {
      "id": "18038230-ed79-406b-9f3a-ab4abf0b4112",
      "cell_type": "code",
      "source": "context_vec_2 = attn_weights_2 @ values\nprint(context_vec_2)",
      "metadata": {},
      "outputs": [
        {
          "name": "stdout",
          "output_type": "stream",
          "text": [
            "tensor([0.3061, 0.8210])\n"
          ]
        }
      ],
      "execution_count": 22
    },
    {
      "id": "4585ebd2-9f59-4e25-8092-09eae5a4ded8",
      "cell_type": "markdown",
      "source": "- Putting it all together, we can implement the self-attention mechanism as follows:",
      "metadata": {}
    },
    {
      "id": "3688ee93-dec4-4bea-8390-eca88d6c93ac",
      "cell_type": "code",
      "source": "import torch.nn as nn\n\nclass SelfAttention_v1(nn.Module):\n\n    def __init__(self, d_in, d_out):\n        super().__init__()\n        self.d_out = d_out\n        self.W_query = nn.Parameter(torch.rand(d_in, d_out))\n        self.W_key   = nn.Parameter(torch.rand(d_in, d_out))\n        self.W_value = nn.Parameter(torch.rand(d_in, d_out))\n\n    def forward(self, x):\n        keys = x @ self.W_key\n        queries = x @ self.W_query\n        values = x @ self.W_value\n        \n        attn_scores = queries @ keys.T # omega\n        attn_weights = torch.softmax(attn_scores / keys.shape[-1]**0.5, dim=-1)\n\n        context_vec = attn_weights @ values\n        return context_vec\n\ntorch.manual_seed(123)\nsa_v1 = SelfAttention_v1(d_in, d_out)\nprint(sa_v1(inputs))",
      "metadata": {},
      "outputs": [
        {
          "name": "stdout",
          "output_type": "stream",
          "text": [
            "tensor([[0.2996, 0.8053],\n",
            "        [0.3061, 0.8210],\n",
            "        [0.3058, 0.8203],\n",
            "        [0.2948, 0.7939],\n",
            "        [0.2927, 0.7891],\n",
            "        [0.2990, 0.8040]], grad_fn=<MmBackward0>)\n"
          ]
        }
      ],
      "execution_count": 23
    },
    {
      "id": "c81dd1cf-3957-4154-8cf4-b1d8ed24a22e",
      "cell_type": "markdown",
      "source": "- We can streamline the implementation above using PyTorch's Linear layers, which are equivalent to a matrix multiplication if we disable the bias units.\n- Another big advantage of using `nn.Linear` over our manual `nn.Parameter(torch.rand(...)` approach is that `nn.Linear` has a preferred weight initialization scheme, which leads to more stable model training.",
      "metadata": {}
    },
    {
      "id": "68324c5f-e2b7-4af5-8496-07206d84821f",
      "cell_type": "code",
      "source": "class SelfAttention_v2(nn.Module):\n\n    def __init__(self, d_in, d_out, qkv_bias=False):\n        super().__init__()\n        self.d_out = d_out\n        self.W_query = nn.Linear(d_in, d_out, bias=qkv_bias)\n        self.W_key   = nn.Linear(d_in, d_out, bias=qkv_bias)\n        self.W_value = nn.Linear(d_in, d_out, bias=qkv_bias)\n\n    def forward(self, x):\n        keys = self.W_key(x)\n        queries = self.W_query(x)\n        values = self.W_value(x)\n        \n        attn_scores = queries @ keys.T\n        attn_weights = torch.softmax(attn_scores / keys.shape[-1]**0.5, dim=1)\n\n        context_vec = attn_weights @ values\n        return context_vec\n\ntorch.manual_seed(789)\nsa_v2 = SelfAttention_v2(d_in, d_out)\nprint(sa_v2(inputs))",
      "metadata": {},
      "outputs": [
        {
          "name": "stdout",
          "output_type": "stream",
          "text": [
            "tensor([[-0.0739,  0.0713],\n",
            "        [-0.0748,  0.0703],\n",
            "        [-0.0749,  0.0702],\n",
            "        [-0.0760,  0.0685],\n",
            "        [-0.0763,  0.0679],\n",
            "        [-0.0754,  0.0693]], grad_fn=<MmBackward0>)\n"
          ]
        }
      ],
      "execution_count": 24
    },
    {
      "id": "a9bf3fac-139f-4830-87e3-8394da581501",
      "cell_type": "markdown",
      "source": "- Note that `SelfAttention_v1` and `SelfAttention_v2` give different outputs because they use different initial weights for the weight matrices.",
      "metadata": {}
    },
    {
      "id": "b7261af7-b5e6-46e7-9ac7-1c870435d902",
      "cell_type": "code",
      "source": "attn_weights = torch.softmax(attn_scores / keys.shape[-1]**0.5, dim=1)\nprint(attn_weights)",
      "metadata": {},
      "outputs": [
        {
          "name": "stdout",
          "output_type": "stream",
          "text": [
            "tensor([[0.1972, 0.1910, 0.1894, 0.1361, 0.1344, 0.1520],\n",
            "        [0.1476, 0.2164, 0.2134, 0.1365, 0.1240, 0.1621],\n",
            "        [0.1479, 0.2157, 0.2129, 0.1366, 0.1260, 0.1608],\n",
            "        [0.1505, 0.1952, 0.1933, 0.1525, 0.1375, 0.1711],\n",
            "        [0.1571, 0.1874, 0.1885, 0.1453, 0.1819, 0.1399],\n",
            "        [0.1473, 0.2033, 0.1996, 0.1500, 0.1160, 0.1839]])\n"
          ]
        }
      ],
      "execution_count": 25
    },
    {
      "id": "28252051-d201-4e22-8a1d-a6b9d2d4e64e",
      "cell_type": "markdown",
      "source": "- The simplest way to mask out future attention weights is by creating a mask via PyTorch's tril function with elements below the main diagonal (including the diagonal itself) set to 1 and above the main diagonal set to 0:",
      "metadata": {}
    },
    {
      "id": "77976cd0-cef1-4bc0-9536-4ca385c5c76a",
      "cell_type": "code",
      "source": "block_size = attn_scores.shape[0]\nmask_simple = torch.tril(torch.ones(block_size, block_size))\nprint(mask_simple)",
      "metadata": {},
      "outputs": [
        {
          "name": "stdout",
          "output_type": "stream",
          "text": [
            "tensor([[1., 0., 0., 0., 0., 0.],\n",
            "        [1., 1., 0., 0., 0., 0.],\n",
            "        [1., 1., 1., 0., 0., 0.],\n",
            "        [1., 1., 1., 1., 0., 0.],\n",
            "        [1., 1., 1., 1., 1., 0.],\n",
            "        [1., 1., 1., 1., 1., 1.]])\n"
          ]
        }
      ],
      "execution_count": 26
    },
    {
      "id": "35270207-ce58-4461-846c-ca72c88409de",
      "cell_type": "markdown",
      "source": "- Then, we can multiply the attention weights with this mask to zero out the attention scores above the diagonal:",
      "metadata": {}
    },
    {
      "id": "ff6324d3-1e1a-4813-b212-6f8d27c422dd",
      "cell_type": "code",
      "source": "masked_simple = attn_weights*mask_simple\nprint(masked_simple)",
      "metadata": {
        "scrolled": true
      },
      "outputs": [
        {
          "name": "stdout",
          "output_type": "stream",
          "text": [
            "tensor([[0.1972, 0.0000, 0.0000, 0.0000, 0.0000, 0.0000],\n",
            "        [0.1476, 0.2164, 0.0000, 0.0000, 0.0000, 0.0000],\n",
            "        [0.1479, 0.2157, 0.2129, 0.0000, 0.0000, 0.0000],\n",
            "        [0.1505, 0.1952, 0.1933, 0.1525, 0.0000, 0.0000],\n",
            "        [0.1571, 0.1874, 0.1885, 0.1453, 0.1819, 0.0000],\n",
            "        [0.1473, 0.2033, 0.1996, 0.1500, 0.1160, 0.1839]])\n"
          ]
        }
      ],
      "execution_count": 27
    },
    {
      "id": "987f5720-6057-4480-8c92-af984c651bf8",
      "cell_type": "markdown",
      "source": "- However, if the mask were applied after softmax, like above, it would disrupt the probability distribution created by softmax. Softmax ensures that all output values sum to 1. Masking after softmax would require re-normalizing the outputs to sum to 1 again, which complicates the process and might lead to unintended effects.",
      "metadata": {}
    },
    {
      "id": "804bf6e4-9de8-49dc-a802-d634dd67e516",
      "cell_type": "markdown",
      "source": "- To make sure that the rows sum to 1, we can normalize the attention weights as follows:",
      "metadata": {}
    },
    {
      "id": "74123e34-1efe-451c-9781-142c48f92632",
      "cell_type": "code",
      "source": "row_sums = masked_simple.sum(dim=1, keepdim=True)\nmasked_simple_norm = masked_simple / row_sums\nprint(masked_simple_norm)",
      "metadata": {},
      "outputs": [
        {
          "name": "stdout",
          "output_type": "stream",
          "text": [
            "tensor([[1.0000, 0.0000, 0.0000, 0.0000, 0.0000, 0.0000],\n",
            "        [0.4056, 0.5944, 0.0000, 0.0000, 0.0000, 0.0000],\n",
            "        [0.2566, 0.3741, 0.3693, 0.0000, 0.0000, 0.0000],\n",
            "        [0.2176, 0.2823, 0.2796, 0.2205, 0.0000, 0.0000],\n",
            "        [0.1826, 0.2178, 0.2191, 0.1689, 0.2115, 0.0000],\n",
            "        [0.1473, 0.2033, 0.1996, 0.1500, 0.1160, 0.1839]])\n"
          ]
        }
      ],
      "execution_count": 28
    },
    {
      "id": "52cbe198-d511-4ac6-b322-751acf95caa7",
      "cell_type": "markdown",
      "source": "- While we are technically done with coding the causal attention mechanism now, let's briefly look at a more efficient approach to achieve the same as above.\n- So, instead of zeroing out attention weights above the diagonal and renormalizing the results, we can mask the unnormalized attention scores above the diagonal with negative infinity before they enter the softmax function:",
      "metadata": {}
    },
    {
      "id": "5e3a41d2-f31b-4dec-bdf8-f1be5465c220",
      "cell_type": "code",
      "source": "mask = torch.triu(torch.ones(block_size, block_size), diagonal=1)\nmasked = attn_scores.masked_fill(mask.bool(), -torch.inf)\nprint(masked)",
      "metadata": {},
      "outputs": [
        {
          "name": "stdout",
          "output_type": "stream",
          "text": [
            "tensor([[0.9995,   -inf,   -inf,   -inf,   -inf,   -inf],\n",
            "        [0.9544, 1.4950,   -inf,   -inf,   -inf,   -inf],\n",
            "        [0.9422, 1.4754, 1.4570,   -inf,   -inf,   -inf],\n",
            "        [0.4753, 0.8434, 0.8296, 0.4937,   -inf,   -inf],\n",
            "        [0.4576, 0.7070, 0.7154, 0.3474, 0.6654,   -inf],\n",
            "        [0.6310, 1.0865, 1.0605, 0.6565, 0.2935, 0.9450]])\n"
          ]
        }
      ],
      "execution_count": 29
    },
    {
      "id": "15262679-120f-487d-a9da-e6fb92010ea7",
      "cell_type": "markdown",
      "source": "- As we can see below, now the attention weights in each row correctly sum to 1 again:",
      "metadata": {}
    },
    {
      "id": "efbcec12-e041-4159-bbc2-322ac2050e28",
      "cell_type": "code",
      "source": "attn_weights = torch.softmax(masked / keys.shape[-1]**0.5, dim=1)\nprint(attn_weights)",
      "metadata": {},
      "outputs": [
        {
          "name": "stdout",
          "output_type": "stream",
          "text": [
            "tensor([[1.0000, 0.0000, 0.0000, 0.0000, 0.0000, 0.0000],\n",
            "        [0.4056, 0.5944, 0.0000, 0.0000, 0.0000, 0.0000],\n",
            "        [0.2566, 0.3741, 0.3693, 0.0000, 0.0000, 0.0000],\n",
            "        [0.2176, 0.2823, 0.2796, 0.2205, 0.0000, 0.0000],\n",
            "        [0.1826, 0.2178, 0.2191, 0.1689, 0.2115, 0.0000],\n",
            "        [0.1473, 0.2033, 0.1996, 0.1500, 0.1160, 0.1839]])\n"
          ]
        }
      ],
      "execution_count": 30
    },
    {
      "id": "f4d4b8ac-0f5f-44f1-b59b-590a37289284",
      "cell_type": "code",
      "source": "torch.manual_seed(123)\ndropout = torch.nn.Dropout(0.5) # dropout rate of 50%\nexample = torch.ones(6, 6) # create a matrix of ones\n\nprint(dropout(example))",
      "metadata": {},
      "outputs": [
        {
          "name": "stdout",
          "output_type": "stream",
          "text": [
            "tensor([[2., 2., 0., 2., 2., 0.],\n",
            "        [0., 0., 0., 2., 0., 2.],\n",
            "        [2., 2., 2., 2., 0., 2.],\n",
            "        [0., 2., 2., 0., 0., 2.],\n",
            "        [0., 2., 0., 2., 0., 2.],\n",
            "        [0., 2., 2., 2., 2., 0.]])\n"
          ]
        }
      ],
      "execution_count": 31
    },
    {
      "id": "04ca5832-f6e2-4099-b26e-af0dc074d77c",
      "cell_type": "code",
      "source": "torch.manual_seed(123)\nprint(dropout(attn_weights))",
      "metadata": {},
      "outputs": [
        {
          "name": "stdout",
          "output_type": "stream",
          "text": [
            "tensor([[2.0000, 0.0000, 0.0000, 0.0000, 0.0000, 0.0000],\n",
            "        [0.0000, 0.0000, 0.0000, 0.0000, 0.0000, 0.0000],\n",
            "        [0.5132, 0.7482, 0.7386, 0.0000, 0.0000, 0.0000],\n",
            "        [0.0000, 0.5646, 0.5592, 0.0000, 0.0000, 0.0000],\n",
            "        [0.0000, 0.4357, 0.0000, 0.3378, 0.0000, 0.0000],\n",
            "        [0.0000, 0.4065, 0.3991, 0.2999, 0.2320, 0.0000]])\n"
          ]
        }
      ],
      "execution_count": 32
    },
    {
      "id": "7323fb3b-0807-43a6-8ab3-78ae37114b07",
      "cell_type": "markdown",
      "source": "- Now, we are ready to implement a working implementation of self-attention, including the causal and dropout masks. \n- One more thing is to implement the code to handle batches consisting of more than one input so that our `CausalAttention` class supports the batch outputs produced by the data loader we implemented in chapter 2.\n- For simplicity, to simulate such batch input, we duplicate the input text example:",
      "metadata": {}
    },
    {
      "id": "10681817-d34b-47a1-acac-66663e0c9014",
      "cell_type": "code",
      "source": "batch = torch.stack((inputs, inputs), dim=0)\nprint(batch.shape) # 2 inputs with 6 tokens each, and each token has embedding dimension 3",
      "metadata": {},
      "outputs": [
        {
          "name": "stdout",
          "output_type": "stream",
          "text": [
            "torch.Size([2, 6, 3])\n"
          ]
        }
      ],
      "execution_count": 33
    },
    {
      "id": "bee36e6c-6bd5-4d37-a98a-152404f15659",
      "cell_type": "code",
      "source": "class CausalAttention(nn.Module):\n\n    def __init__(self, d_in, d_out, block_size, dropout, qkv_bias=False):\n        super().__init__()\n        self.d_out = d_out\n        self.W_query = nn.Linear(d_in, d_out, bias=qkv_bias)\n        self.W_key   = nn.Linear(d_in, d_out, bias=qkv_bias)\n        self.W_value = nn.Linear(d_in, d_out, bias=qkv_bias)\n        self.dropout = nn.Dropout(dropout) # New\n        self.register_buffer('mask', torch.triu(torch.ones(block_size, block_size), diagonal=1)) # New\n\n    def forward(self, x):\n        b, num_tokens, d_in = x.shape # New batch dimension b\n        keys = self.W_key(x)\n        queries = self.W_query(x)\n        values = self.W_value(x)\n\n        attn_scores = queries @ keys.transpose(1, 2) # Changed transpose\n        attn_scores.masked_fill_(  # New, _ ops are in-place\n            self.mask.bool()[:num_tokens, :num_tokens], -torch.inf) \n        attn_weights = torch.softmax(attn_scores / keys.shape[-1]**0.5, dim=1)\n        attn_weights = self.dropout(attn_weights) # New\n\n        context_vec = attn_weights @ values\n        return context_vec\n\ntorch.manual_seed(123)\n\nblock_size = batch.shape[1]\nca = CausalAttention(d_in, d_out, block_size, 0.0)\n\ncontext_vecs = ca(batch)\n\nprint(context_vecs)\nprint(\"context_vecs.shape:\", context_vecs.shape)",
      "metadata": {},
      "outputs": [
        {
          "name": "stdout",
          "output_type": "stream",
          "text": [
            "tensor([[[-0.0844,  0.0414],\n",
            "         [-0.2264, -0.0039],\n",
            "         [-0.4163, -0.0564],\n",
            "         [-0.5014, -0.1011],\n",
            "         [-0.7754, -0.1867],\n",
            "         [-1.1632, -0.3303]],\n",
            "\n",
            "        [[-0.0844,  0.0414],\n",
            "         [-0.2264, -0.0039],\n",
            "         [-0.4163, -0.0564],\n",
            "         [-0.5014, -0.1011],\n",
            "         [-0.7754, -0.1867],\n",
            "         [-1.1632, -0.3303]]], grad_fn=<UnsafeViewBackward0>)\n",
            "context_vecs.shape: torch.Size([2, 6, 2])\n"
          ]
        }
      ],
      "execution_count": 34
    },
    {
      "id": "9e796b8c-a3ba-4ba1-8345-b2f0950d7623",
      "cell_type": "markdown",
      "source": "- Note that dropout is only applied during training, not during inference.",
      "metadata": {}
    },
    {
      "id": "6c1c190a-729c-4334-8732-e2122d288076",
      "cell_type": "markdown",
      "source": "- Below is a summary of the self-attention implemented previously (causal and dropout masks not shown for simplicity).\n\n- This is also called single-head attention:\n\n<img src=\"figures/single-head.png\" width=\"600px\">\n\n- We simply stack multiple single-head attention modules to obtain a multi-head attention module:\n\n<img src=\"figures/multi-head.png\" width=\"600px\">\n\n- The main idea behind multi-head attention is to run the attention mechanism multiple times (in parallel) with different, learned linear projections. This allows the model to jointly attend to information from different representation subspaces at different positions.",
      "metadata": {}
    },
    {
      "id": "6f02fab2-d993-490f-a52a-93aa56032186",
      "cell_type": "code",
      "source": "class MultiHeadAttentionWrapper(nn.Module):\n\n    def __init__(self, d_in, d_out, block_size, dropout, num_heads, qkv_bias=False):\n        super().__init__()\n        self.heads = nn.ModuleList(\n            [CausalAttention(d_in, d_out, block_size, dropout, qkv_bias) \n             for _ in range(num_heads)]\n        )\n\n    def forward(self, x):\n        return torch.cat([head(x) for head in self.heads], dim=-1)\n\n\ntorch.manual_seed(123)\n\nblock_size = batch.shape[1] # This is the number of tokens\nd_in, d_out = 3, 2\nmha = MultiHeadAttentionWrapper(d_in, d_out, block_size, 0.0, num_heads=2)\n\ncontext_vecs = mha(batch)\n\nprint(context_vecs)\nprint(\"context_vecs.shape:\", context_vecs.shape)",
      "metadata": {},
      "outputs": [
        {
          "name": "stdout",
          "output_type": "stream",
          "text": [
            "tensor([[[-0.0844,  0.0414,  0.0766,  0.0171],\n",
            "         [-0.2264, -0.0039,  0.2143,  0.1185],\n",
            "         [-0.4163, -0.0564,  0.3878,  0.2453],\n",
            "         [-0.5014, -0.1011,  0.4992,  0.3401],\n",
            "         [-0.7754, -0.1867,  0.7387,  0.4868],\n",
            "         [-1.1632, -0.3303,  1.1224,  0.8460]],\n",
            "\n",
            "        [[-0.0844,  0.0414,  0.0766,  0.0171],\n",
            "         [-0.2264, -0.0039,  0.2143,  0.1185],\n",
            "         [-0.4163, -0.0564,  0.3878,  0.2453],\n",
            "         [-0.5014, -0.1011,  0.4992,  0.3401],\n",
            "         [-0.7754, -0.1867,  0.7387,  0.4868],\n",
            "         [-1.1632, -0.3303,  1.1224,  0.8460]]], grad_fn=<CatBackward0>)\n",
            "context_vecs.shape: torch.Size([2, 6, 4])\n"
          ]
        }
      ],
      "execution_count": 35
    },
    {
      "id": "6d34bdcf-8b92-4608-acf5-47722d2d6585",
      "cell_type": "markdown",
      "source": "- In the implementation above, the embedding dimension is 4, because we `d_out=2` as the embedding dimension for the key, query, and value vectors as well as the context vector. And since we have 2 attention heads, we have the output embedding dimension 2*2=4.\n\n- If we want to have an output dimension of 2, as earlier in single-head attention, we can have to change the projection dimension `d_out` to 1:",
      "metadata": {}
    },
    {
      "id": "f8476053-f210-4837-b416-97ac48d0319b",
      "cell_type": "code",
      "source": "torch.manual_seed(123)\n\nd_out = 1\nmha = MultiHeadAttentionWrapper(d_in, d_out, block_size, 0.0, num_heads=2)\n\ncontext_vecs = mha(batch)\n\nprint(context_vecs)\nprint(\"context_vecs.shape:\", context_vecs.shape)",
      "metadata": {},
      "outputs": [
        {
          "name": "stdout",
          "output_type": "stream",
          "text": [
            "tensor([[[-9.1476e-02,  3.4164e-02],\n",
            "         [-2.6796e-01, -1.3427e-03],\n",
            "         [-4.8421e-01, -4.8909e-02],\n",
            "         [-6.4808e-01, -1.0625e-01],\n",
            "         [-8.8380e-01, -1.7140e-01],\n",
            "         [-1.4744e+00, -3.4327e-01]],\n",
            "\n",
            "        [[-9.1476e-02,  3.4164e-02],\n",
            "         [-2.6796e-01, -1.3427e-03],\n",
            "         [-4.8421e-01, -4.8909e-02],\n",
            "         [-6.4808e-01, -1.0625e-01],\n",
            "         [-8.8380e-01, -1.7140e-01],\n",
            "         [-1.4744e+00, -3.4327e-01]]], grad_fn=<CatBackward0>)\n",
            "context_vecs.shape: torch.Size([2, 6, 2])\n"
          ]
        }
      ],
      "execution_count": 36
    },
    {
      "id": "bf4d6d3a-c543-4074-8212-584f26e3b230",
      "cell_type": "markdown",
      "source": "- While the above is an intuitive and fully functional implementation of multi-head attention (wrapping the single-head attention `CausalAttention` implementation from earlier), we can write a stand-alone class called `MultiHeadAttention` to achieve the same.\n\n- We don't concatenate single attention heads for this stand-alone `MultiHeadAttention` class. Instead, we create single W_query, W_key, and W_value weight matrices and then split those into individual matrices for each attention head:",
      "metadata": {}
    },
    {
      "id": "dffe1261-c633-4c26-ae5a-2a154bbb3dfa",
      "cell_type": "code",
      "source": "class MultiHeadAttention(nn.Module):\n    def __init__(self, d_in, d_out, block_size, dropout, num_heads, qkv_bias=False):\n        super().__init__()\n        assert d_out % num_heads == 0, \"d_out must be divisible by n_heads\"\n\n        self.d_out = d_out\n        self.num_heads = num_heads\n        self.head_dim = d_out // num_heads # Reduce the projection dim to match desired output dim\n\n        self.W_query = nn.Linear(d_in, d_out, bias=qkv_bias)\n        self.W_key = nn.Linear(d_in, d_out, bias=qkv_bias)\n        self.W_value = nn.Linear(d_in, d_out, bias=qkv_bias)\n        self.out_proj = nn.Linear(d_out, d_out)  # Linear layer to combine head outputs\n        self.dropout = nn.Dropout(dropout)\n        self.register_buffer('mask', torch.triu(torch.ones(block_size, block_size), diagonal=1))\n\n    def forward(self, x):\n        b, num_tokens, d_in = x.shape\n\n        keys = self.W_key(x) # Shape: (b, num_tokens, d_out)\n        queries = self.W_query(x)\n        values = self.W_value(x)\n\n        # We implicitly split the matrix by adding a `num_heads` dimension\n        # Unroll last dim: (b, num_tokens, d_out) -> (b, num_tokens, num_heads, head_dim)\n        keys = keys.view(b, num_tokens, self.num_heads, self.head_dim) \n        values = values.view(b, num_tokens, self.num_heads, self.head_dim)\n        queries = queries.view(b, num_tokens, self.num_heads, self.head_dim)\n\n        # Transpose: (b, num_tokens, num_heads, head_dim) -> (b, num_heads, num_tokens, head_dim)\n        keys = keys.transpose(1, 2)\n        queries = queries.transpose(1, 2)\n        values = values.transpose(1, 2)\n\n        # Compute scaled dot-product attention (aka self-attention) with a causal mask\n        attn_scores = queries @ keys.transpose(2, 3)  # Dot product for each head\n        # Original mask truncated to the number of tokens and converted to boolean\n        mask_bool = self.mask.bool()[:num_tokens, :num_tokens]\n        # Unsqueeze the mask twice to match dimensions\n        mask_unsqueezed = mask_bool.unsqueeze(0).unsqueeze(0)\n        # Use the unsqueezed mask to fill attention scores\n        attn_scores.masked_fill_(mask_unsqueezed, -torch.inf)\n        \n        attn_weights = torch.softmax(attn_scores / keys.shape[-1]**0.5, dim=-1)\n        attn_weights = self.dropout(attn_weights)\n\n        # Shape: (b, num_tokens, num_heads, head_dim)\n        context_vec = (attn_weights @ values).transpose(1, 2) \n        \n        # Combine heads, where self.d_out = self.num_heads * self.head_dim\n        context_vec = context_vec.contiguous().view(b, num_tokens, self.d_out)\n        context_vec = self.out_proj(context_vec) # optional projection\n\n        return context_vec\n\ntorch.manual_seed(123)\n\nbatch_size, block_size, d_in = batch.shape\nd_out = 2\nmha = MultiHeadAttention(d_in, d_out, block_size, 0.0, num_heads=2)\n\ncontext_vecs = mha(batch)\n\nprint(context_vecs)\nprint(\"context_vecs.shape:\", context_vecs.shape)",
      "metadata": {},
      "outputs": [
        {
          "name": "stdout",
          "output_type": "stream",
          "text": [
            "tensor([[[0.3190, 0.4858],\n",
            "         [0.2943, 0.3897],\n",
            "         [0.2856, 0.3593],\n",
            "         [0.2693, 0.3873],\n",
            "         [0.2639, 0.3928],\n",
            "         [0.2575, 0.4028]],\n",
            "\n",
            "        [[0.3190, 0.4858],\n",
            "         [0.2943, 0.3897],\n",
            "         [0.2856, 0.3593],\n",
            "         [0.2693, 0.3873],\n",
            "         [0.2639, 0.3928],\n",
            "         [0.2575, 0.4028]]], grad_fn=<ViewBackward0>)\n",
            "context_vecs.shape: torch.Size([2, 6, 2])\n"
          ]
        }
      ],
      "execution_count": 37
    },
    {
      "id": "0bfd9d05-1fb9-48ea-9714-7d3db2a4d2ff",
      "cell_type": "markdown",
      "source": "- Note that the above is essentially a rewritten version of `MultiHeadAttentionWrapper` that is more efficient.\n- The resulting output looks a bit different since the random weight initializations differ, but both are fully functional implementations that can be used in the GPT class we will implement in the upcoming chapters.\n- Note that in addition, we added a linear projection layer (`self.out_proj `) to the `MultiHeadAttention` class above. This is simply a linear transformation that doesn't change the dimensions. It's a standard convention to use such a projection layer in LLM implementation, but it's not strictly necessary (recent research has shown that it can be removed without affecting the modeling performance; see the further reading section at the end of this chapter)\n",
      "metadata": {}
    },
    {
      "id": "2dbe537f-c704-4441-a95c-6e656280ed07",
      "cell_type": "markdown",
      "source": "- Note that if you are interested in a compact and efficient implementation of the above, you can also consider the [`torch.nn.MultiheadAttention`](https://pytorch.org/docs/stable/generated/torch.nn.MultiheadAttention.html) class in PyTorch.",
      "metadata": {}
    },
    {
      "id": "44127c2b-c2ee-47b5-adf2-b1cc8c9c1514",
      "cell_type": "markdown",
      "source": "- Since the above implementation may look a bit complex at first glance, let's look at what happens when executing `attn_scores = queries @ keys.transpose(2, 3)`:",
      "metadata": {}
    },
    {
      "id": "f2652fc4-fe92-4155-b0c4-d6a526056b2f",
      "cell_type": "code",
      "source": "# (b, num_heads, num_tokens, head_dim) = (1, 2, 3, 4)\na = torch.tensor([[[[0.2745, 0.6584, 0.2775, 0.8573],\n                    [0.8993, 0.0390, 0.9268, 0.7388],\n                    [0.7179, 0.7058, 0.9156, 0.4340]],\n\n                   [[0.0772, 0.3565, 0.1479, 0.5331],\n                    [0.4066, 0.2318, 0.4545, 0.9737],\n                    [0.4606, 0.5159, 0.4220, 0.5786]]]])\n\nprint(a @ a.transpose(2, 3))",
      "metadata": {},
      "outputs": [
        {
          "name": "stdout",
          "output_type": "stream",
          "text": [
            "tensor([[[[1.3208, 1.1631, 1.2879],\n",
            "          [1.1631, 2.2150, 1.8424],\n",
            "          [1.2879, 1.8424, 2.0402]],\n",
            "\n",
            "         [[0.4391, 0.7003, 0.5903],\n",
            "          [0.7003, 1.3737, 1.0620],\n",
            "          [0.5903, 1.0620, 0.9912]]]])\n"
          ]
        }
      ],
      "execution_count": 38
    },
    {
      "id": "624a3848-da9b-46c8-9fb9-1270d20ff387",
      "cell_type": "markdown",
      "source": "- In this case, the matrix multiplication implementation in PyTorch will handle the 4-dimensional input tensor so that the matrix multiplication is carried out between the 2 last dimensions (num_tokens, head_dim) and then repeated for the individual heads. \n\n- For instance, the above becomes a more compact way to compute the matrix multiplication for each head separately:",
      "metadata": {}
    },
    {
      "id": "b5f28e27-edfa-460e-9d71-18d3c2e0b371",
      "cell_type": "code",
      "source": "first_head = a[0, 0, :, :]\nfirst_res = first_head @ first_head.T\nprint(\"First head:\\n\", first_res)\n\nsecond_head = a[0, 1, :, :]\nsecond_res = second_head @ second_head.T\nprint(\"\\nSecond head:\\n\", second_res)",
      "metadata": {},
      "outputs": [
        {
          "name": "stdout",
          "output_type": "stream",
          "text": [
            "First head:\n",
            " tensor([[1.3208, 1.1631, 1.2879],\n",
            "        [1.1631, 2.2150, 1.8424],\n",
            "        [1.2879, 1.8424, 2.0402]])\n",
            "\n",
            "Second head:\n",
            " tensor([[0.4391, 0.7003, 0.5903],\n",
            "        [0.7003, 1.3737, 1.0620],\n",
            "        [0.5903, 1.0620, 0.9912]])\n"
          ]
        }
      ],
      "execution_count": 39
    },
    {
      "id": "9ae3e36c-c464-4371-a3dd-2b130d5fc994",
      "cell_type": "code",
      "source": "block_size = 1024\nd_in, d_out = 768, 768\nnum_heads = 12\n\nmha = MultiHeadAttention(d_in, d_out, block_size, 0.0, num_heads)\n\ndef count_parameters(model):\n    return sum(p.numel() for p in model.parameters() if p.requires_grad)\n\ncount_parameters(mha)",
      "metadata": {},
      "outputs": [
        {
          "data": {
            "text/plain": [
              "2360064"
            ]
          },
          "execution_count": 40,
          "metadata": {},
          "output_type": "execute_result"
        }
      ],
      "execution_count": 40
    }
  ]
}
